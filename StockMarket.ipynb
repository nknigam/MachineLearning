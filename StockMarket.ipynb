{
  "nbformat": 4,
  "nbformat_minor": 0,
  "metadata": {
    "colab": {
      "name": "StockMarket.ipynb",
      "provenance": [],
      "collapsed_sections": [],
      "authorship_tag": "ABX9TyP1lDzxqH2UTEOPwX15OZiP",
      "include_colab_link": true
    },
    "kernelspec": {
      "name": "python3",
      "display_name": "Python 3"
    }
  },
  "cells": [
    {
      "cell_type": "markdown",
      "metadata": {
        "id": "view-in-github",
        "colab_type": "text"
      },
      "source": [
        "<a href=\"https://colab.research.google.com/github/nknigam/MachineLearning/blob/master/StockMarket.ipynb\" target=\"_parent\"><img src=\"https://colab.research.google.com/assets/colab-badge.svg\" alt=\"Open In Colab\"/></a>"
      ]
    },
    {
      "cell_type": "code",
      "metadata": {
        "id": "4MynZDj6poaL"
      },
      "source": [
        "import numpy as np\n",
        "import pandas as pd\n",
        "import math\n",
        "import sklearn\n",
        "import sklearn.preprocessing\n",
        "import datetime\n",
        "import os\n",
        "import matplotlib.pyplot as plt\n",
        "import tensorflow as tf\n",
        "from tensorflow import keras\n",
        "\n",
        "# split data in 80%/10%/10% train/validation/test sets\n",
        "valid_set_size_percentage = 10 \n",
        "test_set_size_percentage = 10 "
      ],
      "execution_count": 25,
      "outputs": []
    },
    {
      "cell_type": "code",
      "metadata": {
        "id": "NZCNLKcAqYp7",
        "outputId": "0c2687d0-9a51-4766-a18e-768b68eb0b3e",
        "colab": {
          "base_uri": "https://localhost:8080/"
        }
      },
      "source": [
        "#display parent directory and working directory\n",
        "print(os.path.dirname(os.getcwd())+':', os.listdir(os.path.dirname(os.getcwd())));\n",
        "print(os.getcwd()+':', os.listdir(os.getcwd()));"
      ],
      "execution_count": 26,
      "outputs": [
        {
          "output_type": "stream",
          "text": [
            "/: ['root', 'sbin', 'media', 'var', 'etc', 'proc', 'sys', 'opt', 'dev', 'usr', 'mnt', 'run', 'bin', 'lib64', 'tmp', 'boot', 'home', 'srv', 'lib', 'content', '.dockerenv', 'datalab', 'tools', 'swift', 'tensorflow-1.15.2', 'lib32']\n",
            "/content: ['.config', 'HDFCBANK.csv', 'sample_data']\n"
          ],
          "name": "stdout"
        }
      ]
    },
    {
      "cell_type": "markdown",
      "metadata": {
        "id": "gqj8Qs7-D6rj"
      },
      "source": [
        "# Analyze HDFC Bank daily Stock price"
      ]
    },
    {
      "cell_type": "code",
      "metadata": {
        "id": "-kc0MDYuqZfE",
        "outputId": "019b0d0a-a8fa-4ee3-a3d6-b87b72ca5fc8",
        "colab": {
          "base_uri": "https://localhost:8080/"
        }
      },
      "source": [
        "df = pd.read_csv(\"HDFCBANK.csv\")\n",
        "df.info()"
      ],
      "execution_count": 35,
      "outputs": [
        {
          "output_type": "stream",
          "text": [
            "<class 'pandas.core.frame.DataFrame'>\n",
            "RangeIndex: 5184 entries, 0 to 5183\n",
            "Data columns (total 15 columns):\n",
            " #   Column              Non-Null Count  Dtype  \n",
            "---  ------              --------------  -----  \n",
            " 0   Date                5184 non-null   object \n",
            " 1   Symbol              5184 non-null   object \n",
            " 2   Series              5184 non-null   object \n",
            " 3   Prev Close          5184 non-null   float64\n",
            " 4   Open                5184 non-null   float64\n",
            " 5   High                5184 non-null   float64\n",
            " 6   Low                 5184 non-null   float64\n",
            " 7   Last                5184 non-null   float64\n",
            " 8   Close               5184 non-null   float64\n",
            " 9   VWAP                5184 non-null   float64\n",
            " 10  Volume              5184 non-null   int64  \n",
            " 11  Turnover            5184 non-null   float64\n",
            " 12  Trades              2334 non-null   float64\n",
            " 13  Deliverable Volume  4675 non-null   float64\n",
            " 14  %Deliverble         4675 non-null   float64\n",
            "dtypes: float64(11), int64(1), object(3)\n",
            "memory usage: 607.6+ KB\n"
          ],
          "name": "stdout"
        }
      ]
    },
    {
      "cell_type": "code",
      "metadata": {
        "id": "MydW0XeuBdHq",
        "outputId": "15d2241e-7d20-4f54-9443-0a889e4d6300",
        "colab": {
          "base_uri": "https://localhost:8080/",
          "height": 204
        }
      },
      "source": [
        "df.tail()"
      ],
      "execution_count": 28,
      "outputs": [
        {
          "output_type": "execute_result",
          "data": {
            "text/html": [
              "<div>\n",
              "<style scoped>\n",
              "    .dataframe tbody tr th:only-of-type {\n",
              "        vertical-align: middle;\n",
              "    }\n",
              "\n",
              "    .dataframe tbody tr th {\n",
              "        vertical-align: top;\n",
              "    }\n",
              "\n",
              "    .dataframe thead th {\n",
              "        text-align: right;\n",
              "    }\n",
              "</style>\n",
              "<table border=\"1\" class=\"dataframe\">\n",
              "  <thead>\n",
              "    <tr style=\"text-align: right;\">\n",
              "      <th></th>\n",
              "      <th>Date</th>\n",
              "      <th>Symbol</th>\n",
              "      <th>Series</th>\n",
              "      <th>Prev Close</th>\n",
              "      <th>Open</th>\n",
              "      <th>High</th>\n",
              "      <th>Low</th>\n",
              "      <th>Last</th>\n",
              "      <th>Close</th>\n",
              "      <th>VWAP</th>\n",
              "      <th>Volume</th>\n",
              "      <th>Turnover</th>\n",
              "      <th>Trades</th>\n",
              "      <th>Deliverable Volume</th>\n",
              "      <th>%Deliverble</th>\n",
              "    </tr>\n",
              "  </thead>\n",
              "  <tbody>\n",
              "    <tr>\n",
              "      <th>5179</th>\n",
              "      <td>2020-10-26</td>\n",
              "      <td>HDFCBANK</td>\n",
              "      <td>EQ</td>\n",
              "      <td>1235.8</td>\n",
              "      <td>1229.80</td>\n",
              "      <td>1242.00</td>\n",
              "      <td>1204.60</td>\n",
              "      <td>1216.55</td>\n",
              "      <td>1210.90</td>\n",
              "      <td>1222.29</td>\n",
              "      <td>9786023</td>\n",
              "      <td>1.196138e+15</td>\n",
              "      <td>197782.0</td>\n",
              "      <td>4286264.0</td>\n",
              "      <td>0.4380</td>\n",
              "    </tr>\n",
              "    <tr>\n",
              "      <th>5180</th>\n",
              "      <td>2020-10-27</td>\n",
              "      <td>HDFCBANK</td>\n",
              "      <td>EQ</td>\n",
              "      <td>1210.9</td>\n",
              "      <td>1226.00</td>\n",
              "      <td>1236.00</td>\n",
              "      <td>1197.85</td>\n",
              "      <td>1235.00</td>\n",
              "      <td>1233.10</td>\n",
              "      <td>1216.83</td>\n",
              "      <td>12158922</td>\n",
              "      <td>1.479529e+15</td>\n",
              "      <td>207342.0</td>\n",
              "      <td>5566363.0</td>\n",
              "      <td>0.4578</td>\n",
              "    </tr>\n",
              "    <tr>\n",
              "      <th>5181</th>\n",
              "      <td>2020-10-28</td>\n",
              "      <td>HDFCBANK</td>\n",
              "      <td>EQ</td>\n",
              "      <td>1233.1</td>\n",
              "      <td>1228.00</td>\n",
              "      <td>1232.00</td>\n",
              "      <td>1201.50</td>\n",
              "      <td>1210.30</td>\n",
              "      <td>1209.60</td>\n",
              "      <td>1214.22</td>\n",
              "      <td>8285625</td>\n",
              "      <td>1.006059e+15</td>\n",
              "      <td>202965.0</td>\n",
              "      <td>3816626.0</td>\n",
              "      <td>0.4606</td>\n",
              "    </tr>\n",
              "    <tr>\n",
              "      <th>5182</th>\n",
              "      <td>2020-10-29</td>\n",
              "      <td>HDFCBANK</td>\n",
              "      <td>EQ</td>\n",
              "      <td>1209.6</td>\n",
              "      <td>1200.60</td>\n",
              "      <td>1204.45</td>\n",
              "      <td>1178.50</td>\n",
              "      <td>1190.50</td>\n",
              "      <td>1187.20</td>\n",
              "      <td>1189.63</td>\n",
              "      <td>11530152</td>\n",
              "      <td>1.371666e+15</td>\n",
              "      <td>207330.0</td>\n",
              "      <td>4599106.0</td>\n",
              "      <td>0.3989</td>\n",
              "    </tr>\n",
              "    <tr>\n",
              "      <th>5183</th>\n",
              "      <td>2020-10-30</td>\n",
              "      <td>HDFCBANK</td>\n",
              "      <td>EQ</td>\n",
              "      <td>1187.2</td>\n",
              "      <td>1182.55</td>\n",
              "      <td>1199.30</td>\n",
              "      <td>1176.35</td>\n",
              "      <td>1182.40</td>\n",
              "      <td>1183.55</td>\n",
              "      <td>1186.31</td>\n",
              "      <td>5761470</td>\n",
              "      <td>6.834879e+14</td>\n",
              "      <td>137766.0</td>\n",
              "      <td>1417497.0</td>\n",
              "      <td>0.2460</td>\n",
              "    </tr>\n",
              "  </tbody>\n",
              "</table>\n",
              "</div>"
            ],
            "text/plain": [
              "            Date    Symbol Series  ...    Trades  Deliverable Volume  %Deliverble\n",
              "5179  2020-10-26  HDFCBANK     EQ  ...  197782.0           4286264.0       0.4380\n",
              "5180  2020-10-27  HDFCBANK     EQ  ...  207342.0           5566363.0       0.4578\n",
              "5181  2020-10-28  HDFCBANK     EQ  ...  202965.0           3816626.0       0.4606\n",
              "5182  2020-10-29  HDFCBANK     EQ  ...  207330.0           4599106.0       0.3989\n",
              "5183  2020-10-30  HDFCBANK     EQ  ...  137766.0           1417497.0       0.2460\n",
              "\n",
              "[5 rows x 15 columns]"
            ]
          },
          "metadata": {
            "tags": []
          },
          "execution_count": 28
        }
      ]
    },
    {
      "cell_type": "code",
      "metadata": {
        "id": "rgETGqGyBh_e",
        "outputId": "2bdaa231-f9e3-4650-c8c8-827f91f0a73e",
        "colab": {
          "base_uri": "https://localhost:8080/",
          "height": 297
        }
      },
      "source": [
        "df.describe()"
      ],
      "execution_count": 29,
      "outputs": [
        {
          "output_type": "execute_result",
          "data": {
            "text/html": [
              "<div>\n",
              "<style scoped>\n",
              "    .dataframe tbody tr th:only-of-type {\n",
              "        vertical-align: middle;\n",
              "    }\n",
              "\n",
              "    .dataframe tbody tr th {\n",
              "        vertical-align: top;\n",
              "    }\n",
              "\n",
              "    .dataframe thead th {\n",
              "        text-align: right;\n",
              "    }\n",
              "</style>\n",
              "<table border=\"1\" class=\"dataframe\">\n",
              "  <thead>\n",
              "    <tr style=\"text-align: right;\">\n",
              "      <th></th>\n",
              "      <th>Prev Close</th>\n",
              "      <th>Open</th>\n",
              "      <th>High</th>\n",
              "      <th>Low</th>\n",
              "      <th>Last</th>\n",
              "      <th>Close</th>\n",
              "      <th>VWAP</th>\n",
              "      <th>Volume</th>\n",
              "      <th>Turnover</th>\n",
              "      <th>Trades</th>\n",
              "      <th>Deliverable Volume</th>\n",
              "      <th>%Deliverble</th>\n",
              "    </tr>\n",
              "  </thead>\n",
              "  <tbody>\n",
              "    <tr>\n",
              "      <th>count</th>\n",
              "      <td>5184.000000</td>\n",
              "      <td>5184.000000</td>\n",
              "      <td>5184.000000</td>\n",
              "      <td>5184.000000</td>\n",
              "      <td>5184.000000</td>\n",
              "      <td>5184.000000</td>\n",
              "      <td>5184.000000</td>\n",
              "      <td>5.184000e+03</td>\n",
              "      <td>5.184000e+03</td>\n",
              "      <td>2334.000000</td>\n",
              "      <td>4.675000e+03</td>\n",
              "      <td>4675.000000</td>\n",
              "    </tr>\n",
              "    <tr>\n",
              "      <th>mean</th>\n",
              "      <td>996.597290</td>\n",
              "      <td>996.897955</td>\n",
              "      <td>1009.320679</td>\n",
              "      <td>983.409587</td>\n",
              "      <td>996.805883</td>\n",
              "      <td>996.795235</td>\n",
              "      <td>996.390808</td>\n",
              "      <td>1.901490e+06</td>\n",
              "      <td>2.144259e+14</td>\n",
              "      <td>74504.353042</td>\n",
              "      <td>1.164452e+06</td>\n",
              "      <td>0.598526</td>\n",
              "    </tr>\n",
              "    <tr>\n",
              "      <th>std</th>\n",
              "      <td>639.324343</td>\n",
              "      <td>638.966383</td>\n",
              "      <td>644.991685</td>\n",
              "      <td>633.027057</td>\n",
              "      <td>639.254264</td>\n",
              "      <td>639.223311</td>\n",
              "      <td>639.020034</td>\n",
              "      <td>3.744284e+06</td>\n",
              "      <td>4.317437e+14</td>\n",
              "      <td>86516.143550</td>\n",
              "      <td>1.975154e+06</td>\n",
              "      <td>0.120262</td>\n",
              "    </tr>\n",
              "    <tr>\n",
              "      <th>min</th>\n",
              "      <td>157.400000</td>\n",
              "      <td>162.150000</td>\n",
              "      <td>167.900000</td>\n",
              "      <td>157.000000</td>\n",
              "      <td>163.000000</td>\n",
              "      <td>163.400000</td>\n",
              "      <td>161.400000</td>\n",
              "      <td>1.042000e+03</td>\n",
              "      <td>2.291142e+10</td>\n",
              "      <td>807.000000</td>\n",
              "      <td>4.631000e+03</td>\n",
              "      <td>0.177900</td>\n",
              "    </tr>\n",
              "    <tr>\n",
              "      <th>25%</th>\n",
              "      <td>468.312500</td>\n",
              "      <td>469.875000</td>\n",
              "      <td>475.600000</td>\n",
              "      <td>461.875000</td>\n",
              "      <td>470.000000</td>\n",
              "      <td>469.112500</td>\n",
              "      <td>468.962500</td>\n",
              "      <td>2.917712e+05</td>\n",
              "      <td>1.505309e+13</td>\n",
              "      <td>26230.750000</td>\n",
              "      <td>2.551265e+05</td>\n",
              "      <td>0.524900</td>\n",
              "    </tr>\n",
              "    <tr>\n",
              "      <th>50%</th>\n",
              "      <td>911.600000</td>\n",
              "      <td>915.025000</td>\n",
              "      <td>930.825000</td>\n",
              "      <td>893.325000</td>\n",
              "      <td>912.200000</td>\n",
              "      <td>911.750000</td>\n",
              "      <td>911.855000</td>\n",
              "      <td>9.077695e+05</td>\n",
              "      <td>1.109204e+14</td>\n",
              "      <td>41848.500000</td>\n",
              "      <td>6.098440e+05</td>\n",
              "      <td>0.604300</td>\n",
              "    </tr>\n",
              "    <tr>\n",
              "      <th>75%</th>\n",
              "      <td>1384.362500</td>\n",
              "      <td>1390.000000</td>\n",
              "      <td>1409.450000</td>\n",
              "      <td>1360.000000</td>\n",
              "      <td>1388.100000</td>\n",
              "      <td>1384.362500</td>\n",
              "      <td>1384.995000</td>\n",
              "      <td>2.008752e+06</td>\n",
              "      <td>2.051019e+14</td>\n",
              "      <td>86674.750000</td>\n",
              "      <td>1.331341e+06</td>\n",
              "      <td>0.676200</td>\n",
              "    </tr>\n",
              "    <tr>\n",
              "      <th>max</th>\n",
              "      <td>2565.800000</td>\n",
              "      <td>2566.000000</td>\n",
              "      <td>2583.300000</td>\n",
              "      <td>2553.700000</td>\n",
              "      <td>2563.000000</td>\n",
              "      <td>2565.800000</td>\n",
              "      <td>2570.700000</td>\n",
              "      <td>1.005650e+08</td>\n",
              "      <td>1.426400e+16</td>\n",
              "      <td>790631.000000</td>\n",
              "      <td>6.669683e+07</td>\n",
              "      <td>1.000000</td>\n",
              "    </tr>\n",
              "  </tbody>\n",
              "</table>\n",
              "</div>"
            ],
            "text/plain": [
              "        Prev Close         Open  ...  Deliverable Volume  %Deliverble\n",
              "count  5184.000000  5184.000000  ...        4.675000e+03  4675.000000\n",
              "mean    996.597290   996.897955  ...        1.164452e+06     0.598526\n",
              "std     639.324343   638.966383  ...        1.975154e+06     0.120262\n",
              "min     157.400000   162.150000  ...        4.631000e+03     0.177900\n",
              "25%     468.312500   469.875000  ...        2.551265e+05     0.524900\n",
              "50%     911.600000   915.025000  ...        6.098440e+05     0.604300\n",
              "75%    1384.362500  1390.000000  ...        1.331341e+06     0.676200\n",
              "max    2565.800000  2566.000000  ...        6.669683e+07     1.000000\n",
              "\n",
              "[8 rows x 12 columns]"
            ]
          },
          "metadata": {
            "tags": []
          },
          "execution_count": 29
        }
      ]
    },
    {
      "cell_type": "code",
      "metadata": {
        "id": "dn39FIbyBsRj",
        "outputId": "e1bb859c-9163-45b8-f828-11f6e4bc1955",
        "colab": {
          "base_uri": "https://localhost:8080/",
          "height": 350
        }
      },
      "source": [
        "plt.figure(figsize=(15, 5));\n",
        "plt.subplot(1,2,1);\n",
        "plt.plot(df['Open'].values, color='red', label='open')\n",
        "plt.plot(df['Close'].values, color='green', label='close')\n",
        "plt.plot(df['Low'].values, color='blue', label='low')\n",
        "plt.plot(df['High'].values, color='black', label='high')\n",
        "plt.title('stock price')\n",
        "plt.xlabel('time [days]')\n",
        "plt.ylabel('price')\n",
        "plt.legend(loc='best')\n",
        "#plt.show()\n",
        "\n",
        "plt.subplot(1,2,2);\n",
        "plt.plot(df['Volume'].values, color='black', label='volume')\n",
        "plt.title('stock volume')\n",
        "plt.xlabel('time [days]')\n",
        "plt.ylabel('volume')\n",
        "plt.legend(loc='best');"
      ],
      "execution_count": 36,
      "outputs": [
        {
          "output_type": "display_data",
          "data": {
            "image/png": "[encoded data removed]",
            "text/plain": [
              "<Figure size 1080x360 with 2 Axes>"
            ]
          },
          "metadata": {
            "tags": [],
            "needs_background": "light"
          }
        }
      ]
    },
    {
      "cell_type": "markdown",
      "metadata": {
        "id": "W6Ke49S_FMfb"
      },
      "source": [
        "# Manipulate Data\n",
        "\n",
        "\n",
        "1.   Drop features: Deliverable Volume,\t%Deliverble\n",
        "2.   Normalize Stock data\n",
        "3.   Create train, validation and test dataset\n",
        "\n",
        "\n",
        "\n",
        "\n",
        "\n"
      ]
    },
    {
      "cell_type": "code",
      "metadata": {
        "id": "xbP46s5zHSfM"
      },
      "source": [
        "#df.drop(['Symbol'],1,inplace=True)\n",
        "#df.drop(['Series'],1,inplace=True)\n",
        "#df.drop(['Prev Close'],1,inplace=True)\n",
        "#df.drop(['Last'],1,inplace=True)\n",
        "#df.drop(['Turnover'],1,inplace=True)\n",
        "#df.drop(['Deliverable Volume'],1,inplace=True)\n",
        "#df.drop(['Trades'],1,inplace=True)\n",
        "#df.drop(['%Deliverble'],1,inplace=True) \n"
      ],
      "execution_count": 31,
      "outputs": []
    },
    {
      "cell_type": "code",
      "metadata": {
        "id": "ljAjBDapFION"
      },
      "source": [
        "# function for min-max normalization of stock\n",
        "def normalize_data(df):\n",
        "    min_max_scaler = sklearn.preprocessing.MinMaxScaler()\n",
        "    df['Open'] = min_max_scaler.fit_transform(df.Open.values.reshape(-1,1))\n",
        "    df['High'] = min_max_scaler.fit_transform(df.High.values.reshape(-1,1))\n",
        "    df['Low'] = min_max_scaler.fit_transform(df.Low.values.reshape(-1,1))\n",
        "    df['Close'] = min_max_scaler.fit_transform(df['Close'].values.reshape(-1,1))\n",
        "    #df['VWAP'] = min_max_scaler.fit_transform(df['VWAP'].values.reshape(-1,1))\n",
        "    df['Volume'] = min_max_scaler.fit_transform(df['Volume'].values.reshape(-1,1))\n",
        "    #df['Trades'] = min_max_scaler.fit_transform(df['Trades'].values.reshape(-1,1))\n",
        "    #df['%Deliverble'] = min_max_scaler.fit_transform(df['%Deliverble'].values.reshape(-1,1))\n",
        "    return df"
      ],
      "execution_count": 37,
      "outputs": []
    },
    {
      "cell_type": "code",
      "metadata": {
        "id": "CntWAPqML8Zp"
      },
      "source": [
        "def load_data(X, seq_len, train_size=0.9):\n",
        "    amount_of_features = X.shape[1]\n",
        "    X_mat = X.values\n",
        "    sequence_length = seq_len + 1\n",
        "    data = []\n",
        "    \n",
        "    for index in range(len(X_mat) - sequence_length):\n",
        "        data.append(X_mat[index: index + sequence_length])\n",
        "    \n",
        "    data = np.array(data)\n",
        "    train_split = int(round(train_size * data.shape[0]))\n",
        "    train_data = data[:train_split, :]\n",
        "    \n",
        "    x_train = train_data[:, :-1]\n",
        "    y_train = train_data[:, -1][:,-1]\n",
        "    \n",
        "    x_test = data[train_split:, :-1] \n",
        "    y_test = data[train_split:, -1][:,-1]\n",
        "\n",
        "    x_train = np.reshape(x_train, (x_train.shape[0], x_train.shape[1], amount_of_features))\n",
        "    x_test = np.reshape(x_test, (x_test.shape[0], x_test.shape[1], amount_of_features))  \n",
        "\n",
        "    return x_train, y_train, x_test, y_test\n"
      ],
      "execution_count": 38,
      "outputs": []
    },
    {
      "cell_type": "code",
      "metadata": {
        "id": "KpGc5D6AMJMD",
        "outputId": "78a665b6-a939-4f23-dfe7-496f992644da",
        "colab": {
          "base_uri": "https://localhost:8080/"
        }
      },
      "source": [
        "# normalize stock\n",
        "df_stock_norm = df[['Open', 'High', 'Low', 'Close', 'Volume']].copy()\n",
        "df_stock_norm = normalize_data(df_stock_norm)\n",
        "\n",
        "cols =  list(df_stock_norm.columns.values)\n",
        "print ('df.columns.values = ', cols)"
      ],
      "execution_count": 40,
      "outputs": [
        {
          "output_type": "stream",
          "text": [
            "df.columns.values =  ['Open', 'High', 'Low', 'Close', 'Volume']\n"
          ],
          "name": "stdout"
        }
      ]
    },
    {
      "cell_type": "code",
      "metadata": {
        "id": "LqOM2zN7VQD6"
      },
      "source": [
        "X = df_stock_norm[['Open', 'High', 'Low', 'Volume']].copy()\n",
        "y = df_stock_norm['Close'].copy()\n",
        "\n",
        "# X.info()"
      ],
      "execution_count": 41,
      "outputs": []
    },
    {
      "cell_type": "code",
      "metadata": {
        "id": "eOno0OwIUfB-",
        "outputId": "e2d024ac-022f-4790-8b1b-b1ea9721f64e",
        "colab": {
          "base_uri": "https://localhost:8080/"
        }
      },
      "source": [
        "# create train, test data\n",
        "\n",
        "window = 20\n",
        "\n",
        "X_train, y_train, X_test, y_test = load_data(X, window)\n",
        "print(X_train.shape, y_train.shape, X_test.shape, y_test.shape)\n",
        "print (X_train[0], y_train[0])"
      ],
      "execution_count": 42,
      "outputs": [
        {
          "output_type": "stream",
          "text": [
            "(4647, 20, 4) (4647,) (516, 20, 4) (516,)\n",
            "[[1.60159744e-03 8.69421214e-04 3.75516335e-03 3.20363317e-04]\n",
            " [8.25758679e-03 6.43785708e-03 5.84136521e-03 1.66727742e-03]\n",
            " [3.26559478e-03 2.48406061e-03 3.33792298e-03 1.57887596e-03]\n",
            " [2.43359611e-03 8.69421214e-04 3.46309509e-03 8.35130299e-04]\n",
            " [0.00000000e+00 1.28343132e-03 2.14878792e-03 8.36303682e-04]\n",
            " [4.47199284e-03 4.80251718e-03 3.33792298e-03 9.88346241e-04]\n",
            " [1.80959710e-03 0.00000000e+00 0.00000000e+00 1.43930308e-03]\n",
            " [6.65598935e-04 2.07005051e-05 2.21137397e-03 8.44338371e-04]\n",
            " [3.22399484e-03 8.28020204e-04 3.33792298e-03 4.69691186e-04]\n",
            " [2.43359611e-03 4.14010102e-05 2.92068261e-03 5.67897354e-04]\n",
            " [4.92959211e-03 4.47130910e-03 6.27946760e-03 1.35597302e-03]\n",
            " [6.88478898e-03 4.47130910e-03 3.15016481e-03 2.53182184e-03]\n",
            " [4.09759344e-03 4.59551213e-03 6.25860558e-03 3.46820115e-03]\n",
            " [9.42238492e-03 6.99677072e-03 7.92756707e-03 2.66552781e-03]\n",
            " [5.76159078e-03 9.97764345e-03 6.30032962e-03 4.68644091e-03]\n",
            " [1.52463756e-02 1.46145566e-02 1.50206534e-02 4.45809864e-03]\n",
            " [1.53295755e-02 2.01622920e-02 1.75240956e-02 2.87626934e-03]\n",
            " [2.57295588e-02 2.73453672e-02 2.68076939e-02 5.59385357e-03]\n",
            " [2.82255548e-02 2.69520576e-02 2.79551049e-02 4.75441756e-03]\n",
            " [2.82671548e-02 3.23962905e-02 3.05002712e-02 6.32769509e-03]] 0.003875514115655046\n"
          ],
          "name": "stdout"
        }
      ]
    },
    {
      "cell_type": "code",
      "metadata": {
        "id": "M2keYqYGMsXG",
        "outputId": "34bf34b8-3679-4ea1-fd59-922c0afa253c",
        "colab": {
          "base_uri": "https://localhost:8080/"
        }
      },
      "source": [
        "print('X_train.shape = ',X_train.shape)\n",
        "print('y_train.shape = ', y_train.shape)\n",
        "\n",
        "print('X_test.shape = ', X_test.shape)\n",
        "print('y_test.shape = ',y_test.shape)"
      ],
      "execution_count": 43,
      "outputs": [
        {
          "output_type": "stream",
          "text": [
            "X_train.shape =  (4647, 20, 4)\n",
            "y_train.shape =  (4647,)\n",
            "X_test.shape =  (516, 20, 4)\n",
            "y_test.shape =  (516,)\n"
          ],
          "name": "stdout"
        }
      ]
    },
    {
      "cell_type": "code",
      "metadata": {
        "id": "8gdHI4kjZVi6",
        "outputId": "063aa81b-82d8-4ac3-e60b-8d0bdde0c9a6",
        "colab": {
          "base_uri": "https://localhost:8080/",
          "height": 350
        }
      },
      "source": [
        "plt.figure(figsize=(15, 5));\n",
        "plt.plot(df_stock_norm.Open.values, color='red', label='open')\n",
        "plt.plot(df_stock_norm.Close.values, color='green', label='low')\n",
        "plt.plot(df_stock_norm.Low.values, color='blue', label='low')\n",
        "plt.plot(df_stock_norm.High.values, color='black', label='high')\n",
        "#plt.plot(df_stock_norm.Volume.values, color='gray', label='volume')\n",
        "plt.title('stock')\n",
        "plt.xlabel('time [days]')\n",
        "plt.ylabel('normalized price/volume')\n",
        "plt.legend(loc='best')\n",
        "plt.show()"
      ],
      "execution_count": 44,
      "outputs": [
        {
          "output_type": "display_data",
          "data": {
            "image/png": "[encoded data removed]",
            "text/plain": [
              "<Figure size 1080x360 with 1 Axes>"
            ]
          },
          "metadata": {
            "tags": [],
            "needs_background": "light"
          }
        }
      ]
    },
    {
      "cell_type": "markdown",
      "metadata": {
        "id": "6u8pRHShFGGK"
      },
      "source": [
        ""
      ]
    },
    {
      "cell_type": "markdown",
      "metadata": {
        "id": "TMbfObzNvkHF"
      },
      "source": [
        "# Model and Validate data"
      ]
    },
    {
      "cell_type": "markdown",
      "metadata": {
        "id": "RQNiYFdgvric"
      },
      "source": [
        "## Basic cells with RNN in tensorflow\n",
        "\n"
      ]
    },
    {
      "cell_type": "code",
      "metadata": {
        "id": "AzRPgv8ovi1u"
      },
      "source": [
        "index_epoch=0\n",
        "perm_array = np.arange(X_train.shape[0])\n",
        "np.random.shuffle(perm_array)"
      ],
      "execution_count": 45,
      "outputs": []
    },
    {
      "cell_type": "code",
      "metadata": {
        "id": "hjRO1thKwTcG"
      },
      "source": [
        "# function to get next batch\n",
        "def get_next_batch(size):\n",
        "  global index_epoch, X_train, perm_array\n",
        "  start = index_epoch\n",
        "  index_epoch += size\n",
        "\n",
        "  if index_epoch > X_train.shape[0]:\n",
        "    np.random.shuffle(perm_array)  # shuffle permutation array\n",
        "    start = 0\n",
        "    index_epoch = size\n",
        "\n",
        "  end = index_epoch\n",
        "  return X_train[perm_array[start:end]], y_train[perm_array[start:end]]\n",
        "  "
      ],
      "execution_count": 46,
      "outputs": []
    },
    {
      "cell_type": "code",
      "metadata": {
        "id": "vveuq9-PzN6v"
      },
      "source": [
        "# parameters\n",
        "n_steps = window-1\n",
        "n_inputs = 4\n",
        "n_neurons = 200 \n",
        "n_outputs = 4\n",
        "n_layers = 2\n",
        "learning_rate = 0.001\n",
        "batch_size = 50\n",
        "n_epochs = 100 \n",
        "train_set_size = X_train.shape[0]\n",
        "test_set_size = X_test.shape[0]"
      ],
      "execution_count": 47,
      "outputs": []
    },
    {
      "cell_type": "code",
      "metadata": {
        "id": "Y39OsCxe6t0v"
      },
      "source": [
        "def build_model(input_shape):\n",
        "  d = 0.2\n",
        "  model = keras.models.Sequential([\n",
        "        LSTM(128, input_shape=input_shape, return_sequences=True),\n",
        "        Dropout(d),\n",
        "        LSTM(128, input_shape=input_shape, return_sequences=False),\n",
        "        Dropout(d),\n",
        "        Dense(32, kernel_initializer='uniform', activation='relu'),\n",
        "        Dense(1, kernel_initializer='uniform', activation='linear')\n",
        "  ])\n",
        "  return model"
      ],
      "execution_count": 55,
      "outputs": []
    },
    {
      "cell_type": "code",
      "metadata": {
        "id": "RYAoxlmQ69nZ",
        "outputId": "e05802d7-ea7d-43f5-f59a-c67d4e57fde0",
        "colab": {
          "base_uri": "https://localhost:8080/",
          "height": 282
        }
      },
      "source": [
        "model = build_model(input_shape=(window,5))"
      ],
      "execution_count": 56,
      "outputs": [
        {
          "output_type": "error",
          "ename": "NameError",
          "evalue": "ignored",
          "traceback": [
            "\u001b[0;31m---------------------------------------------------------------------------\u001b[0m",
            "\u001b[0;31mNameError\u001b[0m                                 Traceback (most recent call last)",
            "\u001b[0;32m<ipython-input-56-65ee51a0406b>\u001b[0m in \u001b[0;36m<module>\u001b[0;34m()\u001b[0m\n\u001b[0;32m----> 1\u001b[0;31m \u001b[0mmodel\u001b[0m \u001b[0;34m=\u001b[0m \u001b[0mbuild_model\u001b[0m\u001b[0;34m(\u001b[0m\u001b[0minput_shape\u001b[0m\u001b[0;34m=\u001b[0m\u001b[0;34m(\u001b[0m\u001b[0mwindow\u001b[0m\u001b[0;34m,\u001b[0m\u001b[0;36m5\u001b[0m\u001b[0;34m)\u001b[0m\u001b[0;34m)\u001b[0m\u001b[0;34m\u001b[0m\u001b[0;34m\u001b[0m\u001b[0m\n\u001b[0m",
            "\u001b[0;32m<ipython-input-55-0266ae143a94>\u001b[0m in \u001b[0;36mbuild_model\u001b[0;34m(input_shape)\u001b[0m\n\u001b[1;32m      1\u001b[0m \u001b[0;32mdef\u001b[0m \u001b[0mbuild_model\u001b[0m\u001b[0;34m(\u001b[0m\u001b[0minput_shape\u001b[0m\u001b[0;34m)\u001b[0m\u001b[0;34m:\u001b[0m\u001b[0;34m\u001b[0m\u001b[0;34m\u001b[0m\u001b[0m\n\u001b[1;32m      2\u001b[0m   \u001b[0md\u001b[0m \u001b[0;34m=\u001b[0m \u001b[0;36m0.2\u001b[0m\u001b[0;34m\u001b[0m\u001b[0;34m\u001b[0m\u001b[0m\n\u001b[0;32m----> 3\u001b[0;31m   model = keras.models.Sequential([\n\u001b[0m\u001b[1;32m      4\u001b[0m         \u001b[0mLSTM\u001b[0m\u001b[0;34m(\u001b[0m\u001b[0;36m128\u001b[0m\u001b[0;34m,\u001b[0m \u001b[0minput_shape\u001b[0m\u001b[0;34m=\u001b[0m\u001b[0minput_shape\u001b[0m\u001b[0;34m,\u001b[0m \u001b[0mreturn_sequences\u001b[0m\u001b[0;34m=\u001b[0m\u001b[0;32mTrue\u001b[0m\u001b[0;34m)\u001b[0m\u001b[0;34m,\u001b[0m\u001b[0;34m\u001b[0m\u001b[0;34m\u001b[0m\u001b[0m\n\u001b[1;32m      5\u001b[0m         \u001b[0mDropout\u001b[0m\u001b[0;34m(\u001b[0m\u001b[0md\u001b[0m\u001b[0;34m)\u001b[0m\u001b[0;34m,\u001b[0m\u001b[0;34m\u001b[0m\u001b[0;34m\u001b[0m\u001b[0m\n",
            "\u001b[0;31mNameError\u001b[0m: name 'keras' is not defined"
          ]
        }
      ]
    },
    {
      "cell_type": "code",
      "metadata": {
        "id": "Ox7k5O31AAMp"
      },
      "source": [
        ""
      ],
      "execution_count": null,
      "outputs": []
    }
  ]
}