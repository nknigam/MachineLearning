{
  "nbformat": 4,
  "nbformat_minor": 0,
  "metadata": {
    "colab": {
      "name": "StockMarket.ipynb",
      "provenance": [],
      "collapsed_sections": [],
      "authorship_tag": "ABX9TyMwqMPwrf1mwrp13cY2Wqs2",
      "include_colab_link": true
    },
    "kernelspec": {
      "name": "python3",
      "display_name": "Python 3"
    }
  },
  "cells": [
    {
      "cell_type": "markdown",
      "metadata": {
        "id": "view-in-github",
        "colab_type": "text"
      },
      "source": [
        "<a href=\"https://colab.research.google.com/github/nknigam/MachineLearning/blob/master/StockMarket.ipynb\" target=\"_parent\"><img src=\"https://colab.research.google.com/assets/colab-badge.svg\" alt=\"Open In Colab\"/></a>"
      ]
    },
    {
      "cell_type": "code",
      "metadata": {
        "id": "4MynZDj6poaL"
      },
      "source": [
        "import numpy as np\n",
        "import pandas as pd\n",
        "import math\n",
        "import sklearn\n",
        "import sklearn.preprocessing\n",
        "import datetime\n",
        "import os\n",
        "import matplotlib.pyplot as plt\n",
        "import tensorflow as tf\n",
        "\n",
        "# split data in 80%/10%/10% train/validation/test sets\n",
        "valid_set_size_percentage = 10 \n",
        "test_set_size_percentage = 10 "
      ],
      "execution_count": 4,
      "outputs": []
    },
    {
      "cell_type": "code",
      "metadata": {
        "id": "NZCNLKcAqYp7",
        "outputId": "80606925-e1ee-40fa-b4b6-8ad2ef8fe2fc",
        "colab": {
          "base_uri": "https://localhost:8080/"
        }
      },
      "source": [
        "#display parent directory and working directory\n",
        "print(os.path.dirname(os.getcwd())+':', os.listdir(os.path.dirname(os.getcwd())));\n",
        "print(os.getcwd()+':', os.listdir(os.getcwd()));"
      ],
      "execution_count": 5,
      "outputs": [
        {
          "output_type": "stream",
          "text": [
            "/: ['run', 'root', 'bin', 'lib64', 'var', 'tmp', 'mnt', 'lib', 'srv', 'sbin', 'home', 'media', 'usr', 'proc', 'opt', 'boot', 'sys', 'dev', 'etc', 'content', '.dockerenv', 'datalab', 'tools', 'swift', 'tensorflow-1.15.2', 'lib32']\n",
            "/content: ['.config', 'HDFCBANK.csv', 'sample_data']\n"
          ],
          "name": "stdout"
        }
      ]
    },
    {
      "cell_type": "markdown",
      "metadata": {
        "id": "gqj8Qs7-D6rj"
      },
      "source": [
        "# Analyze HDFC Bank daily Stock price"
      ]
    },
    {
      "cell_type": "code",
      "metadata": {
        "id": "-kc0MDYuqZfE",
        "outputId": "62a8ac5d-8c9c-40fa-8992-6f659f0eaae0",
        "colab": {
          "base_uri": "https://localhost:8080/"
        }
      },
      "source": [
        "df = pd.read_csv(\"HDFCBANK.csv\")\n",
        "df.info()"
      ],
      "execution_count": 6,
      "outputs": [
        {
          "output_type": "stream",
          "text": [
            "<class 'pandas.core.frame.DataFrame'>\n",
            "RangeIndex: 5184 entries, 0 to 5183\n",
            "Data columns (total 15 columns):\n",
            " #   Column              Non-Null Count  Dtype  \n",
            "---  ------              --------------  -----  \n",
            " 0   Date                5184 non-null   object \n",
            " 1   Symbol              5184 non-null   object \n",
            " 2   Series              5184 non-null   object \n",
            " 3   Prev Close          5184 non-null   float64\n",
            " 4   Open                5184 non-null   float64\n",
            " 5   High                5184 non-null   float64\n",
            " 6   Low                 5184 non-null   float64\n",
            " 7   Last                5184 non-null   float64\n",
            " 8   Close               5184 non-null   float64\n",
            " 9   VWAP                5184 non-null   float64\n",
            " 10  Volume              5184 non-null   int64  \n",
            " 11  Turnover            5184 non-null   float64\n",
            " 12  Trades              2334 non-null   float64\n",
            " 13  Deliverable Volume  4675 non-null   float64\n",
            " 14  %Deliverble         4675 non-null   float64\n",
            "dtypes: float64(11), int64(1), object(3)\n",
            "memory usage: 607.6+ KB\n"
          ],
          "name": "stdout"
        }
      ]
    },
    {
      "cell_type": "code",
      "metadata": {
        "id": "MydW0XeuBdHq",
        "outputId": "1858008d-4bb2-43cd-ef42-19c7ec4001ef",
        "colab": {
          "base_uri": "https://localhost:8080/",
          "height": 204
        }
      },
      "source": [
        "df.tail()"
      ],
      "execution_count": 9,
      "outputs": [
        {
          "output_type": "execute_result",
          "data": {
            "text/html": [
              "<div>\n",
              "<style scoped>\n",
              "    .dataframe tbody tr th:only-of-type {\n",
              "        vertical-align: middle;\n",
              "    }\n",
              "\n",
              "    .dataframe tbody tr th {\n",
              "        vertical-align: top;\n",
              "    }\n",
              "\n",
              "    .dataframe thead th {\n",
              "        text-align: right;\n",
              "    }\n",
              "</style>\n",
              "<table border=\"1\" class=\"dataframe\">\n",
              "  <thead>\n",
              "    <tr style=\"text-align: right;\">\n",
              "      <th></th>\n",
              "      <th>Date</th>\n",
              "      <th>Symbol</th>\n",
              "      <th>Series</th>\n",
              "      <th>Prev Close</th>\n",
              "      <th>Open</th>\n",
              "      <th>High</th>\n",
              "      <th>Low</th>\n",
              "      <th>Last</th>\n",
              "      <th>Close</th>\n",
              "      <th>VWAP</th>\n",
              "      <th>Volume</th>\n",
              "      <th>Turnover</th>\n",
              "      <th>Trades</th>\n",
              "      <th>Deliverable Volume</th>\n",
              "      <th>%Deliverble</th>\n",
              "    </tr>\n",
              "  </thead>\n",
              "  <tbody>\n",
              "    <tr>\n",
              "      <th>5179</th>\n",
              "      <td>2020-10-26</td>\n",
              "      <td>HDFCBANK</td>\n",
              "      <td>EQ</td>\n",
              "      <td>1235.8</td>\n",
              "      <td>1229.80</td>\n",
              "      <td>1242.00</td>\n",
              "      <td>1204.60</td>\n",
              "      <td>1216.55</td>\n",
              "      <td>1210.90</td>\n",
              "      <td>1222.29</td>\n",
              "      <td>9786023</td>\n",
              "      <td>1.196138e+15</td>\n",
              "      <td>197782.0</td>\n",
              "      <td>4286264.0</td>\n",
              "      <td>0.4380</td>\n",
              "    </tr>\n",
              "    <tr>\n",
              "      <th>5180</th>\n",
              "      <td>2020-10-27</td>\n",
              "      <td>HDFCBANK</td>\n",
              "      <td>EQ</td>\n",
              "      <td>1210.9</td>\n",
              "      <td>1226.00</td>\n",
              "      <td>1236.00</td>\n",
              "      <td>1197.85</td>\n",
              "      <td>1235.00</td>\n",
              "      <td>1233.10</td>\n",
              "      <td>1216.83</td>\n",
              "      <td>12158922</td>\n",
              "      <td>1.479529e+15</td>\n",
              "      <td>207342.0</td>\n",
              "      <td>5566363.0</td>\n",
              "      <td>0.4578</td>\n",
              "    </tr>\n",
              "    <tr>\n",
              "      <th>5181</th>\n",
              "      <td>2020-10-28</td>\n",
              "      <td>HDFCBANK</td>\n",
              "      <td>EQ</td>\n",
              "      <td>1233.1</td>\n",
              "      <td>1228.00</td>\n",
              "      <td>1232.00</td>\n",
              "      <td>1201.50</td>\n",
              "      <td>1210.30</td>\n",
              "      <td>1209.60</td>\n",
              "      <td>1214.22</td>\n",
              "      <td>8285625</td>\n",
              "      <td>1.006059e+15</td>\n",
              "      <td>202965.0</td>\n",
              "      <td>3816626.0</td>\n",
              "      <td>0.4606</td>\n",
              "    </tr>\n",
              "    <tr>\n",
              "      <th>5182</th>\n",
              "      <td>2020-10-29</td>\n",
              "      <td>HDFCBANK</td>\n",
              "      <td>EQ</td>\n",
              "      <td>1209.6</td>\n",
              "      <td>1200.60</td>\n",
              "      <td>1204.45</td>\n",
              "      <td>1178.50</td>\n",
              "      <td>1190.50</td>\n",
              "      <td>1187.20</td>\n",
              "      <td>1189.63</td>\n",
              "      <td>11530152</td>\n",
              "      <td>1.371666e+15</td>\n",
              "      <td>207330.0</td>\n",
              "      <td>4599106.0</td>\n",
              "      <td>0.3989</td>\n",
              "    </tr>\n",
              "    <tr>\n",
              "      <th>5183</th>\n",
              "      <td>2020-10-30</td>\n",
              "      <td>HDFCBANK</td>\n",
              "      <td>EQ</td>\n",
              "      <td>1187.2</td>\n",
              "      <td>1182.55</td>\n",
              "      <td>1199.30</td>\n",
              "      <td>1176.35</td>\n",
              "      <td>1182.40</td>\n",
              "      <td>1183.55</td>\n",
              "      <td>1186.31</td>\n",
              "      <td>5761470</td>\n",
              "      <td>6.834879e+14</td>\n",
              "      <td>137766.0</td>\n",
              "      <td>1417497.0</td>\n",
              "      <td>0.2460</td>\n",
              "    </tr>\n",
              "  </tbody>\n",
              "</table>\n",
              "</div>"
            ],
            "text/plain": [
              "            Date    Symbol Series  ...    Trades  Deliverable Volume  %Deliverble\n",
              "5179  2020-10-26  HDFCBANK     EQ  ...  197782.0           4286264.0       0.4380\n",
              "5180  2020-10-27  HDFCBANK     EQ  ...  207342.0           5566363.0       0.4578\n",
              "5181  2020-10-28  HDFCBANK     EQ  ...  202965.0           3816626.0       0.4606\n",
              "5182  2020-10-29  HDFCBANK     EQ  ...  207330.0           4599106.0       0.3989\n",
              "5183  2020-10-30  HDFCBANK     EQ  ...  137766.0           1417497.0       0.2460\n",
              "\n",
              "[5 rows x 15 columns]"
            ]
          },
          "metadata": {
            "tags": []
          },
          "execution_count": 9
        }
      ]
    },
    {
      "cell_type": "code",
      "metadata": {
        "id": "rgETGqGyBh_e",
        "outputId": "e57704c5-a184-4e92-9813-97e37323ee51",
        "colab": {
          "base_uri": "https://localhost:8080/",
          "height": 297
        }
      },
      "source": [
        "df.describe()"
      ],
      "execution_count": 8,
      "outputs": [
        {
          "output_type": "execute_result",
          "data": {
            "text/html": [
              "<div>\n",
              "<style scoped>\n",
              "    .dataframe tbody tr th:only-of-type {\n",
              "        vertical-align: middle;\n",
              "    }\n",
              "\n",
              "    .dataframe tbody tr th {\n",
              "        vertical-align: top;\n",
              "    }\n",
              "\n",
              "    .dataframe thead th {\n",
              "        text-align: right;\n",
              "    }\n",
              "</style>\n",
              "<table border=\"1\" class=\"dataframe\">\n",
              "  <thead>\n",
              "    <tr style=\"text-align: right;\">\n",
              "      <th></th>\n",
              "      <th>Prev Close</th>\n",
              "      <th>Open</th>\n",
              "      <th>High</th>\n",
              "      <th>Low</th>\n",
              "      <th>Last</th>\n",
              "      <th>Close</th>\n",
              "      <th>VWAP</th>\n",
              "      <th>Volume</th>\n",
              "      <th>Turnover</th>\n",
              "      <th>Trades</th>\n",
              "      <th>Deliverable Volume</th>\n",
              "      <th>%Deliverble</th>\n",
              "    </tr>\n",
              "  </thead>\n",
              "  <tbody>\n",
              "    <tr>\n",
              "      <th>count</th>\n",
              "      <td>5184.000000</td>\n",
              "      <td>5184.000000</td>\n",
              "      <td>5184.000000</td>\n",
              "      <td>5184.000000</td>\n",
              "      <td>5184.000000</td>\n",
              "      <td>5184.000000</td>\n",
              "      <td>5184.000000</td>\n",
              "      <td>5.184000e+03</td>\n",
              "      <td>5.184000e+03</td>\n",
              "      <td>2334.000000</td>\n",
              "      <td>4.675000e+03</td>\n",
              "      <td>4675.000000</td>\n",
              "    </tr>\n",
              "    <tr>\n",
              "      <th>mean</th>\n",
              "      <td>996.597290</td>\n",
              "      <td>996.897955</td>\n",
              "      <td>1009.320679</td>\n",
              "      <td>983.409587</td>\n",
              "      <td>996.805883</td>\n",
              "      <td>996.795235</td>\n",
              "      <td>996.390808</td>\n",
              "      <td>1.901490e+06</td>\n",
              "      <td>2.144259e+14</td>\n",
              "      <td>74504.353042</td>\n",
              "      <td>1.164452e+06</td>\n",
              "      <td>0.598526</td>\n",
              "    </tr>\n",
              "    <tr>\n",
              "      <th>std</th>\n",
              "      <td>639.324343</td>\n",
              "      <td>638.966383</td>\n",
              "      <td>644.991685</td>\n",
              "      <td>633.027057</td>\n",
              "      <td>639.254264</td>\n",
              "      <td>639.223311</td>\n",
              "      <td>639.020034</td>\n",
              "      <td>3.744284e+06</td>\n",
              "      <td>4.317437e+14</td>\n",
              "      <td>86516.143550</td>\n",
              "      <td>1.975154e+06</td>\n",
              "      <td>0.120262</td>\n",
              "    </tr>\n",
              "    <tr>\n",
              "      <th>min</th>\n",
              "      <td>157.400000</td>\n",
              "      <td>162.150000</td>\n",
              "      <td>167.900000</td>\n",
              "      <td>157.000000</td>\n",
              "      <td>163.000000</td>\n",
              "      <td>163.400000</td>\n",
              "      <td>161.400000</td>\n",
              "      <td>1.042000e+03</td>\n",
              "      <td>2.291142e+10</td>\n",
              "      <td>807.000000</td>\n",
              "      <td>4.631000e+03</td>\n",
              "      <td>0.177900</td>\n",
              "    </tr>\n",
              "    <tr>\n",
              "      <th>25%</th>\n",
              "      <td>468.312500</td>\n",
              "      <td>469.875000</td>\n",
              "      <td>475.600000</td>\n",
              "      <td>461.875000</td>\n",
              "      <td>470.000000</td>\n",
              "      <td>469.112500</td>\n",
              "      <td>468.962500</td>\n",
              "      <td>2.917712e+05</td>\n",
              "      <td>1.505309e+13</td>\n",
              "      <td>26230.750000</td>\n",
              "      <td>2.551265e+05</td>\n",
              "      <td>0.524900</td>\n",
              "    </tr>\n",
              "    <tr>\n",
              "      <th>50%</th>\n",
              "      <td>911.600000</td>\n",
              "      <td>915.025000</td>\n",
              "      <td>930.825000</td>\n",
              "      <td>893.325000</td>\n",
              "      <td>912.200000</td>\n",
              "      <td>911.750000</td>\n",
              "      <td>911.855000</td>\n",
              "      <td>9.077695e+05</td>\n",
              "      <td>1.109204e+14</td>\n",
              "      <td>41848.500000</td>\n",
              "      <td>6.098440e+05</td>\n",
              "      <td>0.604300</td>\n",
              "    </tr>\n",
              "    <tr>\n",
              "      <th>75%</th>\n",
              "      <td>1384.362500</td>\n",
              "      <td>1390.000000</td>\n",
              "      <td>1409.450000</td>\n",
              "      <td>1360.000000</td>\n",
              "      <td>1388.100000</td>\n",
              "      <td>1384.362500</td>\n",
              "      <td>1384.995000</td>\n",
              "      <td>2.008752e+06</td>\n",
              "      <td>2.051019e+14</td>\n",
              "      <td>86674.750000</td>\n",
              "      <td>1.331341e+06</td>\n",
              "      <td>0.676200</td>\n",
              "    </tr>\n",
              "    <tr>\n",
              "      <th>max</th>\n",
              "      <td>2565.800000</td>\n",
              "      <td>2566.000000</td>\n",
              "      <td>2583.300000</td>\n",
              "      <td>2553.700000</td>\n",
              "      <td>2563.000000</td>\n",
              "      <td>2565.800000</td>\n",
              "      <td>2570.700000</td>\n",
              "      <td>1.005650e+08</td>\n",
              "      <td>1.426400e+16</td>\n",
              "      <td>790631.000000</td>\n",
              "      <td>6.669683e+07</td>\n",
              "      <td>1.000000</td>\n",
              "    </tr>\n",
              "  </tbody>\n",
              "</table>\n",
              "</div>"
            ],
            "text/plain": [
              "        Prev Close         Open  ...  Deliverable Volume  %Deliverble\n",
              "count  5184.000000  5184.000000  ...        4.675000e+03  4675.000000\n",
              "mean    996.597290   996.897955  ...        1.164452e+06     0.598526\n",
              "std     639.324343   638.966383  ...        1.975154e+06     0.120262\n",
              "min     157.400000   162.150000  ...        4.631000e+03     0.177900\n",
              "25%     468.312500   469.875000  ...        2.551265e+05     0.524900\n",
              "50%     911.600000   915.025000  ...        6.098440e+05     0.604300\n",
              "75%    1384.362500  1390.000000  ...        1.331341e+06     0.676200\n",
              "max    2565.800000  2566.000000  ...        6.669683e+07     1.000000\n",
              "\n",
              "[8 rows x 12 columns]"
            ]
          },
          "metadata": {
            "tags": []
          },
          "execution_count": 8
        }
      ]
    },
    {
      "cell_type": "code",
      "metadata": {
        "id": "3m1Y6zwHCyQy",
        "outputId": "cf6aa8e9-25db-497a-d02d-95c052e704a8",
        "colab": {
          "base_uri": "https://localhost:8080/"
        }
      },
      "source": [
        "df['Open'].values"
      ],
      "execution_count": 13,
      "outputs": [
        {
          "output_type": "execute_result",
          "data": {
            "text/plain": [
              "array([ 166.  ,  182.  ,  170.  , ..., 1228.  , 1200.6 , 1182.55])"
            ]
          },
          "metadata": {
            "tags": []
          },
          "execution_count": 13
        }
      ]
    },
    {
      "cell_type": "code",
      "metadata": {
        "id": "dn39FIbyBsRj",
        "outputId": "42abb3c8-872c-4ce7-9cd6-a8a885b20905",
        "colab": {
          "base_uri": "https://localhost:8080/",
          "height": 350
        }
      },
      "source": [
        "plt.figure(figsize=(15, 5));\n",
        "plt.subplot(1,2,1);\n",
        "plt.plot(df['Open'].values, color='red', label='open')\n",
        "plt.plot(df['Close'].values, color='green', label='close')\n",
        "plt.plot(df['Low'].values, color='blue', label='low')\n",
        "plt.plot(df['High'].values, color='black', label='high')\n",
        "plt.title('stock price')\n",
        "plt.xlabel('time [days]')\n",
        "plt.ylabel('price')\n",
        "plt.legend(loc='best')\n",
        "#plt.show()\n",
        "\n",
        "plt.subplot(1,2,2);\n",
        "plt.plot(df['Volume'].values, color='black', label='volume')\n",
        "plt.title('stock volume')\n",
        "plt.xlabel('time [days]')\n",
        "plt.ylabel('volume')\n",
        "plt.legend(loc='best');"
      ],
      "execution_count": 15,
      "outputs": [
        {
          "output_type": "display_data",
          "data": {
            "image/png": "[encoded data removed]",
            "text/plain": [
              "<Figure size 1080x360 with 2 Axes>"
            ]
          },
          "metadata": {
            "tags": [],
            "needs_background": "light"
          }
        }
      ]
    },
    {
      "cell_type": "code",
      "metadata": {
        "id": "ud26clV0Cbck"
      },
      "source": [
        ""
      ],
      "execution_count": null,
      "outputs": []
    }
  ]
}