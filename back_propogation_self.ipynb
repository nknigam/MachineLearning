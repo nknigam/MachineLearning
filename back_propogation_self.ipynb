{
 "cells": [
  {
   "cell_type": "markdown",
   "metadata": {},
   "source": [
    "# Definition"
   ]
  },
  {
   "cell_type": "code",
   "execution_count": 1,
   "metadata": {},
   "outputs": [],
   "source": [
    "def sq(x):\n",
    "    return x*x"
   ]
  },
  {
   "cell_type": "code",
   "execution_count": 2,
   "metadata": {},
   "outputs": [
    {
     "data": {
      "text/plain": [
       "4"
      ]
     },
     "execution_count": 2,
     "metadata": {},
     "output_type": "execute_result"
    }
   ],
   "source": [
    "sq(2)"
   ]
  },
  {
   "cell_type": "code",
   "execution_count": 3,
   "metadata": {},
   "outputs": [],
   "source": [
    "def cb(x):\n",
    "    return x*x*x"
   ]
  },
  {
   "cell_type": "code",
   "execution_count": 4,
   "metadata": {},
   "outputs": [
    {
     "data": {
      "text/plain": [
       "1000"
      ]
     },
     "execution_count": 4,
     "metadata": {},
     "output_type": "execute_result"
    }
   ],
   "source": [
    "cb(10)"
   ]
  },
  {
   "cell_type": "markdown",
   "metadata": {},
   "source": [
    "# Passing Function as an Argument"
   ]
  },
  {
   "cell_type": "code",
   "execution_count": 5,
   "metadata": {},
   "outputs": [
    {
     "data": {
      "text/plain": [
       "[2, 4, 6]"
      ]
     },
     "execution_count": 5,
     "metadata": {},
     "output_type": "execute_result"
    }
   ],
   "source": [
    "def double_it(x):\n",
    "    return 2*x\n",
    "\n",
    "def apply_transformation(f, arr):\n",
    "    result = []\n",
    "    for a in arr:\n",
    "        v = f(a)\n",
    "        result.append(v)\n",
    "    return result\n",
    "\n",
    "\n",
    "apply_transformation(double_it, [1,2,3])\n"
   ]
  },
  {
   "cell_type": "code",
   "execution_count": 6,
   "metadata": {},
   "outputs": [
    {
     "data": {
      "text/plain": [
       "[4, 9, 16]"
      ]
     },
     "execution_count": 6,
     "metadata": {},
     "output_type": "execute_result"
    }
   ],
   "source": [
    "apply_transformation(sq, [2,3,4])"
   ]
  },
  {
   "cell_type": "code",
   "execution_count": 7,
   "metadata": {},
   "outputs": [
    {
     "data": {
      "text/plain": [
       "[8, 27, 64]"
      ]
     },
     "execution_count": 7,
     "metadata": {},
     "output_type": "execute_result"
    }
   ],
   "source": [
    "apply_transformation(cb, [2,3,4])"
   ]
  },
  {
   "cell_type": "markdown",
   "metadata": {},
   "source": [
    "# Differentiation"
   ]
  },
  {
   "cell_type": "code",
   "execution_count": 8,
   "metadata": {},
   "outputs": [],
   "source": [
    "def diff(fn, x):\n",
    "    delta = 0.001\n",
    "    y = fn(x)\n",
    "    x1 = x + delta\n",
    "    y1 = fn(x1)\n",
    "    return (y1 - y)/(x1 - x)"
   ]
  },
  {
   "cell_type": "code",
   "execution_count": 9,
   "metadata": {},
   "outputs": [
    {
     "data": {
      "text/plain": [
       "4.00100000000014"
      ]
     },
     "execution_count": 9,
     "metadata": {},
     "output_type": "execute_result"
    }
   ],
   "source": [
    "diff(sq, 2)"
   ]
  },
  {
   "cell_type": "code",
   "execution_count": 10,
   "metadata": {},
   "outputs": [
    {
     "data": {
      "text/plain": [
       "12.006001000000921"
      ]
     },
     "execution_count": 10,
     "metadata": {},
     "output_type": "execute_result"
    }
   ],
   "source": [
    "diff(cb, 2)"
   ]
  },
  {
   "cell_type": "markdown",
   "metadata": {},
   "source": [
    "## Another way to Calculate differentiation"
   ]
  },
  {
   "cell_type": "code",
   "execution_count": 11,
   "metadata": {},
   "outputs": [],
   "source": [
    "def diff2(fn, x):\n",
    "    delta = 0.00001\n",
    "    y_left = fn(x-delta)\n",
    "    y_right = fn(x + delta)\n",
    "    \n",
    "    return (y_right - y_left)/(2*delta)"
   ]
  },
  {
   "cell_type": "code",
   "execution_count": 12,
   "metadata": {},
   "outputs": [
    {
     "name": "stdout",
     "output_type": "stream",
     "text": [
      "4.000000000026205\n",
      "4.0\n"
     ]
    }
   ],
   "source": [
    "ans = diff2(sq, 2)\n",
    "print(ans)\n",
    "rounded = round(ans, 6)\n",
    "print(rounded)"
   ]
  },
  {
   "cell_type": "code",
   "execution_count": 13,
   "metadata": {},
   "outputs": [
    {
     "data": {
      "text/plain": [
       "12.00000000021184"
      ]
     },
     "execution_count": 13,
     "metadata": {},
     "output_type": "execute_result"
    }
   ],
   "source": [
    "diff2(cb, 2)"
   ]
  },
  {
   "cell_type": "code",
   "execution_count": 14,
   "metadata": {},
   "outputs": [],
   "source": [
    "### Now, generiled diff\n",
    "import numpy as np\n",
    "\n",
    "# The first\n",
    "\n",
    "def diffp(fn, idx, *args):\n",
    "    delta = 0.000001\n",
    "   \n",
    "    # call underlying function\n",
    "    y = fn(*args)\n",
    "   \n",
    "    # Now, increase one input\n",
    "    args = list(args)\n",
    "    args[idx] += delta\n",
    "  \n",
    "    # Now, calculate the output\n",
    "    y1 = fn(*args)\n",
    "    return (y1 - y)/delta\n"
   ]
  },
  {
   "cell_type": "markdown",
   "metadata": {},
   "source": [
    "## Simple Derivatives"
   ]
  },
  {
   "attachments": {
    "8c16b160-13e8-4a09-b753-366a506aaeb3.png": {
     "image/png": "[encoded data removed]"
    },
    "a4a7c37c-5f8c-4d68-8ab6-de378e30fae4.png": {
     "image/png": "[encoded data removed]"
    }
   },
   "cell_type": "markdown",
   "metadata": {},
   "source": [
    "![image.png](attachment:a4a7c37c-5f8c-4d68-8ab6-de378e30fae4.png) ![image.png](attachment:8c16b160-13e8-4a09-b753-366a506aaeb3.png)"
   ]
  },
  {
   "cell_type": "markdown",
   "metadata": {},
   "source": [
    "# Chain rule"
   ]
  },
  {
   "cell_type": "code",
   "execution_count": 15,
   "metadata": {},
   "outputs": [],
   "source": [
    "def sqcb(x):\n",
    "    y = sq(x)\n",
    "    z = cb(y)\n",
    "    return z"
   ]
  },
  {
   "cell_type": "code",
   "execution_count": 16,
   "metadata": {},
   "outputs": [
    {
     "data": {
      "text/plain": [
       "192.24016006001662"
      ]
     },
     "execution_count": 16,
     "metadata": {},
     "output_type": "execute_result"
    }
   ],
   "source": [
    "diff(sqcb, 2)"
   ]
  },
  {
   "cell_type": "code",
   "execution_count": 17,
   "metadata": {},
   "outputs": [
    {
     "data": {
      "text/plain": [
       "192.00000001724501"
      ]
     },
     "execution_count": 17,
     "metadata": {},
     "output_type": "execute_result"
    }
   ],
   "source": [
    "diff2(sqcb, 2)"
   ]
  },
  {
   "attachments": {
    "d6db698c-4857-43a5-9c5b-bb4f99bebb1a.png": {
     "image/png": "[encoded data removed]"
    }
   },
   "cell_type": "markdown",
   "metadata": {},
   "source": [
    "![image.png](attachment:d6db698c-4857-43a5-9c5b-bb4f99bebb1a.png)"
   ]
  },
  {
   "cell_type": "code",
   "execution_count": 18,
   "metadata": {},
   "outputs": [],
   "source": [
    "x = 2\n",
    "d_sq = diff(sq, x)"
   ]
  },
  {
   "cell_type": "code",
   "execution_count": 19,
   "metadata": {},
   "outputs": [],
   "source": [
    "y = sq(x)\n",
    "d_cb = diff(cb, y)"
   ]
  },
  {
   "cell_type": "code",
   "execution_count": 20,
   "metadata": {},
   "outputs": [
    {
     "data": {
      "text/plain": [
       "192.09601600101374"
      ]
     },
     "execution_count": 20,
     "metadata": {},
     "output_type": "execute_result"
    }
   ],
   "source": [
    "d_sq * d_cb"
   ]
  },
  {
   "cell_type": "markdown",
   "metadata": {},
   "source": [
    "# Gradient Descent"
   ]
  },
  {
   "attachments": {
    "c5bd91e6-126e-436a-b6c2-5a2a348f6225.png": {
     "image/png": "[encoded data removed]"
    }
   },
   "cell_type": "markdown",
   "metadata": {},
   "source": [
    "![image.png](attachment:c5bd91e6-126e-436a-b6c2-5a2a348f6225.png)"
   ]
  },
  {
   "cell_type": "code",
   "execution_count": 21,
   "metadata": {},
   "outputs": [],
   "source": [
    "# Generate some data\n",
    "\n",
    "import numpy as np\n",
    "\n",
    "## 100 numbers\n",
    "X = 2 * np.random.random((100,1))"
   ]
  },
  {
   "attachments": {
    "15035a2e-ce6c-47ee-ac5f-71f7fe520083.png": {
     "image/png": "[encoded data removed]"
    }
   },
   "cell_type": "markdown",
   "metadata": {},
   "source": [
    "![image.png](attachment:15035a2e-ce6c-47ee-ac5f-71f7fe520083.png)"
   ]
  },
  {
   "cell_type": "code",
   "execution_count": 22,
   "metadata": {},
   "outputs": [
    {
     "name": "stdout",
     "output_type": "stream",
     "text": [
      "[[0.94544541]\n",
      " [0.30982305]\n",
      " [0.71053381]]\n"
     ]
    },
    {
     "data": {
      "text/plain": [
       "array([[5.89282542],\n",
       "       [5.03064   ],\n",
       "       [6.04967546]])"
      ]
     },
     "execution_count": 22,
     "metadata": {},
     "output_type": "execute_result"
    }
   ],
   "source": [
    "noise = .3*np.random.randn(100, 1)\n",
    "m = 3\n",
    "c = 4\n",
    "y = m * X + c + noise\n",
    "\n",
    "print(X[0:3])\n",
    "y[0:3]"
   ]
  },
  {
   "cell_type": "code",
   "execution_count": 32,
   "metadata": {},
   "outputs": [
    {
     "data": {
      "text/plain": [
       "<matplotlib.collections.PathCollection at 0xcb9afe8>"
      ]
     },
     "execution_count": 32,
     "metadata": {},
     "output_type": "execute_result"
    },
    {
     "data": {
      "image/png": "[encoded data removed]",
      "text/plain": [
       "<Figure size 792x288 with 1 Axes>"
      ]
     },
     "metadata": {
      "needs_background": "light"
     },
     "output_type": "display_data"
    }
   ],
   "source": [
    "from matplotlib import pyplot as plt\n",
    "\n",
    "plt.figure(figsize=(11,4))\n",
    "plt.scatter(X,y)"
   ]
  },
  {
   "cell_type": "code",
   "execution_count": 24,
   "metadata": {},
   "outputs": [],
   "source": [
    "def error(m,c,X,y):\n",
    "    ypred= m*X + c\n",
    "    err = ypred - y\n",
    "    return np.sum(err*err)"
   ]
  },
  {
   "cell_type": "code",
   "execution_count": 25,
   "metadata": {},
   "outputs": [
    {
     "data": {
      "text/plain": [
       "7.47530885096782"
      ]
     },
     "execution_count": 25,
     "metadata": {},
     "output_type": "execute_result"
    }
   ],
   "source": [
    "error(3, 4, X, y)"
   ]
  },
  {
   "cell_type": "markdown",
   "metadata": {},
   "source": [
    "# Backpropogation"
   ]
  },
  {
   "attachments": {
    "8ada35be-dc17-4945-bcf6-c9c73372f4f2.png": {
     "image/png": "[encoded data removed]"
    }
   },
   "cell_type": "markdown",
   "metadata": {},
   "source": [
    "![image.png](attachment:8ada35be-dc17-4945-bcf6-c9c73372f4f2.png)"
   ]
  },
  {
   "cell_type": "code",
   "execution_count": 26,
   "metadata": {},
   "outputs": [],
   "source": [
    "# Generate Data\n",
    "import numpy as np\n",
    "\n",
    "m=3 \n",
    "c= 4\n",
    "noise = .3* np.random.random((100, 1))\n",
    "X= np.random.random((100,1))\n",
    "\n",
    "y = m * X + c + noise\n"
   ]
  },
  {
   "cell_type": "code",
   "execution_count": 27,
   "metadata": {},
   "outputs": [],
   "source": [
    "def neuron(w11, w12, x):\n",
    "    return (w11*x + w12)\n",
    "\n",
    "def forward_nn(w11, w12, w21, w22, x):\n",
    "    h1 = neuron(w11, w12, x)\n",
    "    o1 = neuron(w21, w22, h1)\n",
    "    return o1\n",
    "\n",
    "def sq_error(o1, y):\n",
    "    e = o1 - y\n",
    "    return e*e\n",
    "\n",
    "def error_nn(w11, w12, w21, w22, x, y):\n",
    "    o1 = forward_nn(w11, w12, w21, w22, x)\n",
    "    return sq_error(o1, y)\n"
   ]
  },
  {
   "cell_type": "code",
   "execution_count": 28,
   "metadata": {},
   "outputs": [],
   "source": [
    "w11 = 0.5\n",
    "w12 = 0.5\n",
    "w21 = 0.5\n",
    "w22 = 0.5\n",
    "\n",
    "eta = 0.001\n",
    "\n",
    "for epoch in range(100):\n",
    "    for i in range(len(X)):\n",
    "        x = X[i]\n",
    "        yy = y[i]\n",
    "        \n",
    "        dE_dw11 = diffp(error_nn, 0, w11, w12, w21, w22, x, yy)\n",
    "        dE_dw12 = diffp(error_nn, 1, w11, w12, w21, w22, x, yy)\n",
    "        dE_dw21 = diffp(error_nn, 2, w11, w12, w21, w22, x, yy)\n",
    "        dE_dw22 = diffp(error_nn, 3, w11, w12, w21, w22, x, yy)\n",
    "        \n",
    "        w11 = w11 - eta * dE_dw11\n",
    "        w12 = w12 - eta * dE_dw12\n",
    "        \n",
    "        w21 = w21 - eta * dE_dw21\n",
    "        w22 = w22 - eta * dE_dw22"
   ]
  },
  {
   "cell_type": "code",
   "execution_count": 29,
   "metadata": {},
   "outputs": [],
   "source": [
    "ycap = forward_nn(w11, w12, w21, w22, X)"
   ]
  },
  {
   "cell_type": "code",
   "execution_count": 31,
   "metadata": {},
   "outputs": [
    {
     "name": "stderr",
     "output_type": "stream",
     "text": [
      "<ipython-input-31-9b0276ffd6dc>:7: MatplotlibDeprecationWarning: Adding an axes using the same arguments as a previous axes currently reuses the earlier instance.  In a future version, a new instance will always be created and returned.  Meanwhile, this warning can be suppressed, and the future behavior ensured, by passing a unique label to each axes instance.\n",
      "  plt.subplot()\n"
     ]
    },
    {
     "data": {
      "text/plain": [
       "<matplotlib.collections.PathCollection at 0xcf8edf0>"
      ]
     },
     "execution_count": 31,
     "metadata": {},
     "output_type": "execute_result"
    },
    {
     "data": {
      "image/png": "[encoded data removed]",
      "text/plain": [
       "<Figure size 792x288 with 1 Axes>"
      ]
     },
     "metadata": {
      "needs_background": "light"
     },
     "output_type": "display_data"
    }
   ],
   "source": [
    "from matplotlib import  pyplot as plt\n",
    "\n",
    "plt.figure(figsize=(11,4))\n",
    "plt.subplot()\n",
    "plt.scatter(X, ycap, color='r')\n",
    "\n",
    "plt.subplot()\n",
    "plt.scatter(X, y, color='b')"
   ]
  },
  {
   "cell_type": "code",
   "execution_count": null,
   "metadata": {},
   "outputs": [],
   "source": []
  }
 ],
 "metadata": {
  "kernelspec": {
   "display_name": "Python 3",
   "language": "python",
   "name": "python3"
  },
  "language_info": {
   "codemirror_mode": {
    "name": "ipython",
    "version": 3
   },
   "file_extension": ".py",
   "mimetype": "text/x-python",
   "name": "python",
   "nbconvert_exporter": "python",
   "pygments_lexer": "ipython3",
   "version": "3.8.3"
  }
 },
 "nbformat": 4,
 "nbformat_minor": 4
}
