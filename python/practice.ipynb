{
 "cells": [
  {
   "cell_type": "code",
   "execution_count": 28,
   "metadata": {},
   "outputs": [
    {
     "name": "stdout",
     "output_type": "stream",
     "text": [
      "cloudxlab\n"
     ]
    }
   ],
   "source": [
    "a = [12, 3.4, 34, 'cloudxlab', [2.3, 1.4]]\n",
    "print(a[3])"
   ]
  },
  {
   "cell_type": "code",
   "execution_count": 30,
   "metadata": {},
   "outputs": [
    {
     "name": "stdout",
     "output_type": "stream",
     "text": [
      "True\n"
     ]
    }
   ],
   "source": [
    "print(34 in a)"
   ]
  },
  {
   "cell_type": "code",
   "execution_count": 31,
   "metadata": {},
   "outputs": [],
   "source": [
    "a = [1,2,3]    \n",
    "c = a * 3"
   ]
  },
  {
   "cell_type": "code",
   "execution_count": 32,
   "metadata": {},
   "outputs": [
    {
     "name": "stdout",
     "output_type": "stream",
     "text": [
      "[1, 2, 3, 1, 2, 3, 1, 2, 3]\n"
     ]
    }
   ],
   "source": [
    "print(c)"
   ]
  },
  {
   "cell_type": "code",
   "execution_count": 33,
   "metadata": {},
   "outputs": [
    {
     "name": "stdout",
     "output_type": "stream",
     "text": [
      "18\n"
     ]
    }
   ],
   "source": [
    "print(sum(c))"
   ]
  },
  {
   "cell_type": "code",
   "execution_count": 36,
   "metadata": {},
   "outputs": [
    {
     "data": {
      "text/plain": [
       "[2, 4, 5]"
      ]
     },
     "execution_count": 36,
     "metadata": {},
     "output_type": "execute_result"
    }
   ],
   "source": [
    "list = [12,23,43,[2,4,5], 2, 4,5]\n",
    "list.pop(3)"
   ]
  },
  {
   "cell_type": "code",
   "execution_count": 37,
   "metadata": {},
   "outputs": [
    {
     "name": "stdout",
     "output_type": "stream",
     "text": [
      "['cloudx', 'provides', 'cloud', 'lab']\n"
     ]
    }
   ],
   "source": [
    "list = ['cloudx', 'lab', 'provides', 'cloud', 'lab']\n",
    "del list[1]\n",
    "print(list)"
   ]
  },
  {
   "cell_type": "code",
   "execution_count": 38,
   "metadata": {},
   "outputs": [],
   "source": [
    "list = ['cloudx', 'lab', 'provides', 'cloud', 'lab']\n",
    "list.remove('lab')"
   ]
  },
  {
   "cell_type": "code",
   "execution_count": 39,
   "metadata": {},
   "outputs": [
    {
     "name": "stdout",
     "output_type": "stream",
     "text": [
      "['cloudx', 'provides', 'cloud', 'lab']\n"
     ]
    }
   ],
   "source": [
    "print(list)"
   ]
  },
  {
   "cell_type": "code",
   "execution_count": 40,
   "metadata": {},
   "outputs": [],
   "source": [
    "list = ['cloudx', 'lab', 'provides', 'cloud', 'lab']\n",
    "del list[:]"
   ]
  },
  {
   "cell_type": "code",
   "execution_count": 41,
   "metadata": {},
   "outputs": [
    {
     "name": "stdout",
     "output_type": "stream",
     "text": [
      "[]\n"
     ]
    }
   ],
   "source": [
    "print(list)"
   ]
  },
  {
   "cell_type": "code",
   "execution_count": 1,
   "metadata": {},
   "outputs": [
    {
     "name": "stdout",
     "output_type": "stream",
     "text": [
      "This is a sample file for testing\n",
      "\n",
      "for Python course for\n",
      "\n",
      "learners in CloudxLab.\n",
      "\n",
      "This is a sample file for testing\n",
      "for Python course for\n",
      "learners in CloudxLab.\n",
      "\n"
     ]
    }
   ],
   "source": [
    "with open(\"/cxldata/python_sample_file\") as f:\n",
    "    s = \"\"\n",
    "    for line in f:\n",
    "        print(line)\n",
    "        s = s + line\n",
    "    print(s)"
   ]
  },
  {
   "cell_type": "code",
   "execution_count": 22,
   "metadata": {},
   "outputs": [
    {
     "data": {
      "text/plain": [
       "-1"
      ]
     },
     "execution_count": 22,
     "metadata": {},
     "output_type": "execute_result"
    }
   ],
   "source": [
    "def file_read_func(path):\n",
    "    wcount = 0\n",
    "    try:\n",
    "        with open(path) as f:\n",
    "            for line in f:\n",
    "                sen = line.replace(\"\\n\",\" \")\n",
    "                words = sen.split(\" \")\n",
    "                for w in words:\n",
    "                    wcount += len(w)\n",
    "    except:\n",
    "        wcount = -1\n",
    "    return wcount\n",
    "\n",
    "file_read_func(\"/cxldata/python_sample_file\")\n",
    "file_read_func(\"/cxldata/abc\")"
   ]
  },
  {
   "cell_type": "code",
   "execution_count": 27,
   "metadata": {},
   "outputs": [
    {
     "name": "stdout",
     "output_type": "stream",
     "text": [
      "0\n"
     ]
    }
   ],
   "source": [
    "check = 0\n",
    "with open(\"/cxldata/python_sample_file\") as f:\n",
    "    for line in f:\n",
    "        if(line.startswith('w')):\n",
    "            check = check + 1\n",
    "print (check)            "
   ]
  },
  {
   "cell_type": "code",
   "execution_count": 1,
   "metadata": {},
   "outputs": [
    {
     "name": "stdout",
     "output_type": "stream",
     "text": [
      "Bikes_problem.ipynb\t\tEnd_to_end_project.ipynb  scala_spark.ipynb\r\n",
      "Bikes_solution.ipynb\t\tPractice1.ipynb\t\t  test1.ipynb\r\n",
      "cat_vs_noncat_classifier.ipynb\tPractice2.ipynb\t\t  Untitled1.ipynb\r\n",
      "classify_clothes.ipynb\t\tPython.ipynb\t\t  Untitled.ipynb\r\n"
     ]
    }
   ],
   "source": [
    "!ls"
   ]
  },
  {
   "cell_type": "code",
   "execution_count": 7,
   "metadata": {},
   "outputs": [
    {
     "name": "stdout",
     "output_type": "stream",
     "text": [
      "[5, 4]\n",
      "[15, 6]\n",
      "[16, 1]\n"
     ]
    }
   ],
   "source": [
    "def ordernum(a,b):\n",
    "    if (a>b):\n",
    "        return [a,b]\n",
    "    else:\n",
    "        return [b,a]\n",
    "\n",
    "print (ordernum(5,4))    \n",
    "print (ordernum(15,6))    \n",
    "print (ordernum(1,16)) "
   ]
  },
  {
   "cell_type": "code",
   "execution_count": 6,
   "metadata": {},
   "outputs": [
    {
     "data": {
      "text/plain": [
       "25"
      ]
     },
     "execution_count": 6,
     "metadata": {},
     "output_type": "execute_result"
    }
   ],
   "source": [
    "def sq(x): return x*x\n",
    "sq(10)"
   ]
  },
  {
   "cell_type": "code",
   "execution_count": 8,
   "metadata": {},
   "outputs": [
    {
     "data": {
      "text/plain": [
       "[1, 4, 9, 16]"
      ]
     },
     "execution_count": 8,
     "metadata": {},
     "output_type": "execute_result"
    }
   ],
   "source": [
    "def mymap(a,f):\n",
    "    r = []\n",
    "    for i in a:\n",
    "        v= f(i)\n",
    "        r.append(v)\n",
    "    return r\n",
    "\n",
    "mymap([1,2,3,4], sq)"
   ]
  },
  {
   "cell_type": "code",
   "execution_count": 13,
   "metadata": {},
   "outputs": [
    {
     "name": "stdout",
     "output_type": "stream",
     "text": [
      "[1, 8, 27, 64]\n",
      "[1, 8, 27, 64, 125]\n"
     ]
    }
   ],
   "source": [
    "def cube(x): return x*x*x\n",
    "print (mymap([1,2,3,4], cube))\n",
    "print (mymap([1,2,3,4,5], cube))"
   ]
  },
  {
   "cell_type": "code",
   "execution_count": 14,
   "metadata": {},
   "outputs": [
    {
     "name": "stdout",
     "output_type": "stream",
     "text": [
      "1\n",
      "2\n",
      "3\n",
      "4\n",
      "5\n",
      "[None, None, None, None, None]\n"
     ]
    }
   ],
   "source": [
    "print (mymap([1,2,3,4,5], print))"
   ]
  },
  {
   "cell_type": "code",
   "execution_count": 16,
   "metadata": {},
   "outputs": [
    {
     "data": {
      "text/plain": [
       "[2, 4, 6, 8, 10]"
      ]
     },
     "execution_count": 16,
     "metadata": {},
     "output_type": "execute_result"
    }
   ],
   "source": [
    "mymap([1,2,3,4,5], lambda x:x*2)"
   ]
  },
  {
   "cell_type": "code",
   "execution_count": 17,
   "metadata": {},
   "outputs": [
    {
     "data": {
      "text/plain": [
       "11"
      ]
     },
     "execution_count": 17,
     "metadata": {},
     "output_type": "execute_result"
    }
   ],
   "source": [
    "sum = lambda x,y: x+y\n",
    "sum(4,7)"
   ]
  },
  {
   "cell_type": "code",
   "execution_count": 18,
   "metadata": {},
   "outputs": [
    {
     "name": "stdout",
     "output_type": "stream",
     "text": [
      "Multiplier: 2\n",
      "Multiplier: 3\n",
      "Multiplier: 4\n",
      "Multiplier: 5\n"
     ]
    },
    {
     "data": {
      "text/plain": [
       "[4, 9, 16, 25]"
      ]
     },
     "execution_count": 18,
     "metadata": {},
     "output_type": "execute_result"
    }
   ],
   "source": [
    "mymap([2,3,4,5], lambda x: x* int(input(\"Multiplier: \")))"
   ]
  },
  {
   "cell_type": "code",
   "execution_count": null,
   "metadata": {},
   "outputs": [],
   "source": [
    "x = [\"apple\", \"banana\", \"eggs\"]\n",
    "x[1] = \"Banana1\"\n",
    "print (x)\n",
    "x.append(\"cereals\")\n",
    "print(x)\n",
    "x.sort()\n",
    "print(x)\n",
    "x.reverse()\n",
    "print(x)\n",
    "dir(x)\n",
    "x.pop()"
   ]
  },
  {
   "cell_type": "code",
   "execution_count": 2,
   "metadata": {},
   "outputs": [
    {
     "name": "stdout",
     "output_type": "stream",
     "text": [
      "{'age': 12, 'course': 183}\n"
     ]
    }
   ],
   "source": [
    "ddd= dict()\n",
    "ddd['age']=12\n",
    "ddd['course']=183\n",
    "print(ddd)"
   ]
  },
  {
   "cell_type": "code",
   "execution_count": 11,
   "metadata": {},
   "outputs": [
    {
     "name": "stdout",
     "output_type": "stream",
     "text": [
      "{'age': 12, 'course': 183, 'chuck': 500}\n",
      "12\n"
     ]
    }
   ],
   "source": [
    "ddd['chuck'] = 500\n",
    "print(ddd)\n",
    "x =ddd.get('age')\n",
    "print (x)"
   ]
  },
  {
   "cell_type": "code",
   "execution_count": 12,
   "metadata": {},
   "outputs": [
    {
     "name": "stdout",
     "output_type": "stream",
     "text": [
      "dict_keys(['age', 'course', 'chuck'])\n",
      "age\n",
      "course\n",
      "chuck\n"
     ]
    }
   ],
   "source": [
    "print(ddd.keys())\n",
    "for i in ddd : print (i)"
   ]
  },
  {
   "cell_type": "code",
   "execution_count": 12,
   "metadata": {},
   "outputs": [
    {
     "name": "stdout",
     "output_type": "stream",
     "text": [
      "12\n",
      "Hello\n"
     ]
    }
   ],
   "source": [
    "# Tuple\n",
    "\n",
    "(x, y) = (12, \"Hello\")\n",
    "print (x)\n",
    "print (y)"
   ]
  },
  {
   "cell_type": "code",
   "execution_count": 16,
   "metadata": {},
   "outputs": [
    {
     "data": {
      "text/plain": [
       "True"
      ]
     },
     "execution_count": 16,
     "metadata": {},
     "output_type": "execute_result"
    }
   ],
   "source": [
    "(0, 2, 2000000) < (0, 3, 4)"
   ]
  },
  {
   "cell_type": "code",
   "execution_count": 17,
   "metadata": {},
   "outputs": [
    {
     "data": {
      "text/plain": [
       "{'the': 2,\n",
       " 'quick': 1,\n",
       " 'brown': 1,\n",
       " 'fox': 1,\n",
       " 'jumps': 1,\n",
       " 'over': 1,\n",
       " 'lazy': 1,\n",
       " 'dog': 1}"
      ]
     },
     "execution_count": 17,
     "metadata": {},
     "output_type": "execute_result"
    }
   ],
   "source": [
    "def dict_func(string):\n",
    "    l = string.split(\" \")\n",
    "    d = dict()\n",
    "    for word in l:\n",
    "        if(d.get(word)):\n",
    "            d[word] += 1\n",
    "        else:\n",
    "            d[word] = 1\n",
    "    return d\n",
    "dict_func('the quick brown fox jumps over the lazy dog')"
   ]
  },
  {
   "cell_type": "code",
   "execution_count": 21,
   "metadata": {},
   "outputs": [],
   "source": [
    "t = (12,323, 'd', [1,23], False)"
   ]
  },
  {
   "cell_type": "code",
   "execution_count": 24,
   "metadata": {},
   "outputs": [
    {
     "data": {
      "text/plain": [
       "tuple"
      ]
     },
     "execution_count": 24,
     "metadata": {},
     "output_type": "execute_result"
    }
   ],
   "source": [
    "t = (1,)\n",
    "type(t)"
   ]
  },
  {
   "cell_type": "code",
   "execution_count": 26,
   "metadata": {},
   "outputs": [
    {
     "name": "stdout",
     "output_type": "stream",
     "text": [
      "()\n"
     ]
    }
   ],
   "source": [
    "t=tuple()\n",
    "print(t)"
   ]
  },
  {
   "cell_type": "code",
   "execution_count": 1,
   "metadata": {},
   "outputs": [
    {
     "name": "stdout",
     "output_type": "stream",
     "text": [
      "('1', ',', '2', ',', '3', ',', '4', ',', '5')\n",
      "(1, 2, 3, 4, 5)\n",
      "(1, 2, 3, 4, 5)\n",
      "9\n",
      "5\n",
      "5\n"
     ]
    }
   ],
   "source": [
    "t1 = tuple(\"1,2,3,4,5\")\n",
    "t2 = tuple([1,2,3,4,5])\n",
    "t3 = tuple((1,2,3,4,5))\n",
    "print(t1)\n",
    "print(t2)\n",
    "print(t3)\n",
    "print(len(t1))\n",
    "print(len(t2))\n",
    "print(len(t3))"
   ]
  },
  {
   "cell_type": "markdown",
   "metadata": {},
   "source": [
    "Network Programming"
   ]
  },
  {
   "cell_type": "code",
   "execution_count": 3,
   "metadata": {},
   "outputs": [
    {
     "name": "stdout",
     "output_type": "stream",
     "text": [
      "b'But soft what light through yonder window breaks'\n",
      "b'It is the east and Juliet is the sun'\n",
      "b'Arise fair sun and kill the envious moon'\n",
      "b'Who is already sick and pale with grief'\n"
     ]
    }
   ],
   "source": [
    "## using Urllib in python\n",
    "\n",
    "from urllib import *\n",
    "fhand = request.urlopen('http://www.py4inf.com/code/romeo.txt')\n",
    "\n",
    "for line in fhand:\n",
    "    print(line.strip())"
   ]
  },
  {
   "cell_type": "code",
   "execution_count": 4,
   "metadata": {},
   "outputs": [],
   "source": [
    "from urllib import *\n",
    "fhand = request.urlopen('http://www.py4inf.com/code/romeo.txt')\n",
    "\n",
    "count = dict()\n",
    "for line in fhand:\n",
    "    words = line.split()\n",
    "    "
   ]
  },
  {
   "cell_type": "code",
   "execution_count": 7,
   "metadata": {},
   "outputs": [
    {
     "name": "stdout",
     "output_type": "stream",
     "text": [
      "url - https://cloudxlab.com\n",
      "https://cloudxlab.com\n",
      "/events/past-events/\n",
      "/\n",
      "\n",
      "/c/eict-iit-roorkee-courses/\n",
      "/#specialization_courses\n",
      "/lab/\n",
      "\n",
      "/bootml/\n",
      "\n",
      "/jobs/\n",
      "/contact-us?mid=pj\n",
      "https://discuss.cloudxlab.com\n",
      "\n",
      "/course/all/?type=free\n",
      "//cloudxlab.com/blog/\n",
      "\n",
      "/contact-us\n",
      "/bootml/\n",
      "/accounts/login/\n",
      "/accounts/signup/\n",
      "tel:1-412-568-3901\n",
      "\n",
      "mailto:reachus@cloudxlab.com\n",
      "/course/84/certificate-course-artificial-intelligence-deep-learning-iit-roorkee/\n",
      "/#all_courses\n",
      "/c/eict-iit-roorkee-courses/\n",
      "#specialization_courses\n",
      "/lab\n",
      "https://www.aninews.in/news/national/general-news/covid-19-iit-roorkee-launches-online-course-to-upskill-students-professionals20200420133820/\n",
      "/course/84/certificate-course-artificial-intelligence-deep-learning-iit-roorkee/\n",
      "/course/73/data-science-specialization-eict-iitr\n",
      "/course/73/data-science-specialization-eict-iitr\n",
      "/course/71/machine-learning-specialization-eict-iitr\n",
      "/course/71/machine-learning-specialization-eict-iitr\n",
      "/course/67/big-data-engineering-with-hadoop-and-spark\n",
      "/course/67/big-data-engineering-with-hadoop-and-spark\n",
      "/course/72/python-for-machine-learning-eict-iitr\n",
      "/course/72/python-for-machine-learning-eict-iitr\n",
      "/course/74/python-for-beginners-eict-iit-roorkee\n",
      "/course/74/python-for-beginners-eict-iit-roorkee\n",
      "/course/69/big-data-engineering-with-hadoop-eict-iitr\n",
      "/course/69/big-data-engineering-with-hadoop-eict-iitr\n",
      "/course/70/big-data-engineering-with-spark-eict-iitr\n",
      "/course/70/big-data-engineering-with-spark-eict-iitr\n",
      "/course/76/machine-learning-eict-iit-roorkee\n",
      "/course/76/machine-learning-eict-iit-roorkee\n",
      "/course/75/deep-learning-eict-iit-roorkee\n",
      "/course/75/deep-learning-eict-iit-roorkee\n",
      "/course/60/devops-specialization\n",
      "/course/60/devops-specialization\n",
      "/course/specialization/3/big-data-with-hadoop-and-spark\n",
      "/course/specialization/3/big-data-with-hadoop-and-spark\n",
      "/course/3/big-data-with-hadoop\n",
      "/course/3/big-data-with-hadoop\n",
      "/course/4/big-data-with-spark\n",
      "/course/4/big-data-with-spark\n",
      "/course/specialization/4/ai-for-managers\n",
      "/course/specialization/4/ai-for-managers\n",
      "/course/specialization/1/machine-learning-specialization\n",
      "/course/specialization/1/machine-learning-specialization\n",
      "/course/15/machine-learning\n",
      "/course/15/machine-learning\n",
      "/course/16/deep-learning\n",
      "/course/16/deep-learning\n",
      "/refer-friend\n",
      "/tickets/payment/25/free-lab-trial\n",
      "/tickets/payment/26/lab-for-1-month\n",
      "/tickets/payment/27/lab-for-3-months\n",
      "/tickets/payment/28/lab-for-6-months\n",
      "/assessment/playlist-intro/2/linux-basics \n",
      "/assessment/playlist-intro/2/linux-basics\n",
      "/assessment/playlist-intro/114/sql-tutorial \n",
      "/assessment/playlist-intro/114/sql-tutorial\n",
      "/assessment/playlist-intro/55/java-essentials \n",
      "/assessment/playlist-intro/55/java-essentials\n",
      "/assessment/playlist-intro/3/big-data-introduction \n",
      "/assessment/playlist-intro/3/big-data-introduction\n",
      "/course/all/?type=free\n",
      "https://www.firstpost.com/health/iit-roorkee-launches-online-course-on-artificial-intelligence-and-deep-learning-on-cloudxlab-com-lessons-to-begin-from-31-may-8284241.html\n",
      "https://www.aninews.in/news/national/general-news/covid-19-iit-roorkee-launches-online-course-to-upskill-students-professionals20200420133820/\n",
      "https://in.news.yahoo.com/covid-19-iit-roorkee-launches-online-course-upskill-080817442.html\n",
      "https://www.ndtv.com/education/iit-roorkee-launches-deep-learning-course-to-upskill-youth-during-covid-19-lockdown-2214950\n",
      "https://www.timesnownews.com/education/article/iit-roorkee-launches-free-online-certification-course-on-deep-learning-check-details-how-to-register-etc/580463\n",
      "https://www.indiatoday.in/education-today/news/story/iit-roorkee-launches-deep-learning-course-online-to-upskill-youth-promote-e-learning-1669079-2020-04-20\n",
      "https://cloudxlab.com/blog/setup-yolo-with-darknet/\n",
      "https://cloudxlab.com/blog/setup-yolo-with-darknet/\n",
      "https://cloudxlab.com/blog/number-plate-reader/\n",
      "https://cloudxlab.com/blog/number-plate-reader/\n",
      "https://cloudxlab.com/blog/how-to-run-yolo-on-cctv-feed/\n",
      "https://cloudxlab.com/blog/how-to-run-yolo-on-cctv-feed/\n",
      "/about-us\n",
      "https://angel.co/cloudxlab/jobs/194559-software-engineer\n",
      "/contact-us\n",
      "/privacy-policy\n",
      "/terms-of-use\n",
      "/cookie-policy\n",
      "/affiliate/program\n",
      "/instructor/\n",
      "/schedule-demo\n",
      "/refer-friend/\n",
      "/course/all/\n",
      "/lab/\n",
      "\n",
      "/bootml/\n",
      "\n",
      "/jobs/\n",
      "/contact-us\n",
      "/course/all/?type=free\n",
      "https://discuss.cloudxlab.com\n",
      "//cloudxlab.com/blog/\n",
      "/faq/support\n",
      "/contact-us\n",
      "https://twitter.com/CloudxLab\n",
      "https://www.facebook.com/cloudxlab\n",
      "https://www.youtube.com/channel/UC8mJ6DL1Q32UWyJUceoO8Jw\n"
     ]
    }
   ],
   "source": [
    "# Beautiful Soup\n",
    "## web scrape\n",
    "\n",
    "\n",
    "from urllib import *\n",
    "from bs4 import BeautifulSoup\n",
    "\n",
    "url = input(\"url - \")\n",
    "\n",
    "html = request.urlopen(url).read()\n",
    "soup = BeautifulSoup(html)\n",
    "\n",
    "tags = soup('a')\n",
    "for tag in tags:\n",
    "    print(tag.get('href', None))\n"
   ]
  },
  {
   "cell_type": "code",
   "execution_count": 12,
   "metadata": {},
   "outputs": [
    {
     "name": "stdout",
     "output_type": "stream",
     "text": [
      "So far:  1\n",
      "So far:  2\n",
      "So far:  3\n",
      "So far:  1\n",
      "<class '__main__.PartyAnimal'>\n"
     ]
    }
   ],
   "source": [
    "# Python Objects\n",
    "\n",
    "class PartyAnimal:\n",
    "    x =0 \n",
    "    \n",
    "    def party(self):\n",
    "        self.x = self.x +1\n",
    "        print(\"So far: \", self.x)\n",
    "\n",
    "an = PartyAnimal()\n",
    "an.party()\n",
    "an.party()\n",
    "an.party()\n",
    "\n",
    "b= PartyAnimal()\n",
    "b.party()\n",
    "\n",
    "print (type(b))"
   ]
  },
  {
   "cell_type": "code",
   "execution_count": 21,
   "metadata": {},
   "outputs": [],
   "source": [
    "## Constructor\n",
    "## __init__(self)\n",
    "\n",
    "class PartyAnimal:\n",
    "    x =0 \n",
    "    \n",
    "    def __init__(self):\n",
    "        print('I m constructor')\n",
    "    \n",
    "    def party(self):\n",
    "        self.x = self.x +1\n",
    "        print(\"So far: \", self.x)\n",
    "        \n",
    "    def __del__(self):\n",
    "        print('I m distructor', self.x)"
   ]
  },
  {
   "cell_type": "code",
   "execution_count": 22,
   "metadata": {
    "scrolled": true
   },
   "outputs": [
    {
     "name": "stdout",
     "output_type": "stream",
     "text": [
      "I m constructor\n",
      "I m distructor 1\n",
      "So far:  1\n"
     ]
    }
   ],
   "source": [
    "a = PartyAnimal()\n",
    "a.party()"
   ]
  },
  {
   "cell_type": "code",
   "execution_count": 27,
   "metadata": {},
   "outputs": [],
   "source": [
    "class PartyAnimal:\n",
    "    x =0 \n",
    "    name = ''\n",
    "    def __init__(self, nam):\n",
    "        self.name = nam\n",
    "        print(self.name, 'constructed!!')\n",
    "    \n",
    "    def party(self):\n",
    "        self.x = self.x +1\n",
    "        print(self.name, \" party count: \", self.x)\n",
    "        \n",
    "class footbalFan(PartyAnimal):\n",
    "    points = 1    \n",
    "    def touchdown(self):\n",
    "        self.points = self.points + 7\n",
    "        self.party()\n",
    "        print(self.name, ' points: ', self.points)\n",
    "        "
   ]
  },
  {
   "cell_type": "code",
   "execution_count": 28,
   "metadata": {},
   "outputs": [
    {
     "name": "stdout",
     "output_type": "stream",
     "text": [
      "Ria constructed!!\n",
      "Ria  party count:  1\n",
      "Armin constructed!!\n",
      "Armin  party count:  1\n",
      "Armin  party count:  2\n",
      "Armin  points:  8\n"
     ]
    }
   ],
   "source": [
    "a = PartyAnimal('Ria')\n",
    "a.party()\n",
    "\n",
    "b = footbalFan('Armin')\n",
    "b.party()\n",
    "b.touchdown()"
   ]
  },
  {
   "cell_type": "code",
   "execution_count": 29,
   "metadata": {},
   "outputs": [
    {
     "name": "stdout",
     "output_type": "stream",
     "text": [
      "Ria  party count:  2\n",
      "None\n",
      "Armin  party count:  3\n",
      "None\n"
     ]
    }
   ],
   "source": [
    "for x in (a,b):\n",
    "    print(x.party())"
   ]
  },
  {
   "cell_type": "code",
   "execution_count": 32,
   "metadata": {},
   "outputs": [
    {
     "name": "stdout",
     "output_type": "stream",
     "text": [
      "62.5 ns ± 4.43 ns per loop (mean ± std. dev. of 7 runs, 10000000 loops each)\n"
     ]
    }
   ],
   "source": [
    "import sys\n",
    "%timeit sys.path"
   ]
  },
  {
   "cell_type": "code",
   "execution_count": 35,
   "metadata": {},
   "outputs": [],
   "source": [
    "f = lambda x: x*x"
   ]
  },
  {
   "cell_type": "code",
   "execution_count": 36,
   "metadata": {},
   "outputs": [
    {
     "data": {
      "text/plain": [
       "16"
      ]
     },
     "execution_count": 36,
     "metadata": {},
     "output_type": "execute_result"
    }
   ],
   "source": [
    "f(4)"
   ]
  },
  {
   "cell_type": "code",
   "execution_count": 37,
   "metadata": {},
   "outputs": [],
   "source": [
    "foo = [1,2,3,6,7,9,12,13,15]"
   ]
  },
  {
   "cell_type": "code",
   "execution_count": 40,
   "metadata": {},
   "outputs": [
    {
     "name": "stdout",
     "output_type": "stream",
     "text": [
      "[3, 6, 9, 12, 15]\n"
     ]
    }
   ],
   "source": [
    "div_of_three = filter(lambda x: x%3==0, foo)\n",
    "print(list(div_of_three))"
   ]
  },
  {
   "cell_type": "code",
   "execution_count": 1,
   "metadata": {},
   "outputs": [
    {
     "data": {
      "text/plain": [
       "[0, 1, 4, 9, 16, 25, 36, 49, 64, 81]"
      ]
     },
     "execution_count": 1,
     "metadata": {},
     "output_type": "execute_result"
    }
   ],
   "source": [
    "[i*i for i in range(10)]"
   ]
  },
  {
   "cell_type": "code",
   "execution_count": 5,
   "metadata": {},
   "outputs": [],
   "source": [
    "import itertools\n",
    "import functools"
   ]
  },
  {
   "cell_type": "code",
   "execution_count": 7,
   "metadata": {},
   "outputs": [
    {
     "data": {
      "text/plain": [
       "[0, 1, 4, 9, 16, 25, 36, 49, 64, 81]"
      ]
     },
     "execution_count": 7,
     "metadata": {},
     "output_type": "execute_result"
    }
   ],
   "source": [
    "list(map(lambda x:x*x, range(10)))"
   ]
  },
  {
   "cell_type": "code",
   "execution_count": 2,
   "metadata": {},
   "outputs": [],
   "source": [
    "import numpy as np"
   ]
  },
  {
   "cell_type": "code",
   "execution_count": 4,
   "metadata": {
    "code_folding": []
   },
   "outputs": [
    {
     "name": "stdout",
     "output_type": "stream",
     "text": [
      "[10 20 30 40 50]\n",
      "[0 1 2 3 4]\n",
      "[10 21 32 43 54]\n"
     ]
    }
   ],
   "source": [
    "# Numpy np\n",
    "\n",
    "a = np.array([10,20,30,40,50])\n",
    "b = np.arange(5)\n",
    "c = a + b\n",
    "print(a)\n",
    "print(b)\n",
    "print(c)"
   ]
  },
  {
   "cell_type": "code",
   "execution_count": 6,
   "metadata": {},
   "outputs": [],
   "source": [
    "     \n"
   ]
  },
  {
   "cell_type": "code",
   "execution_count": 13,
   "metadata": {},
   "outputs": [
    {
     "name": "stdout",
     "output_type": "stream",
     "text": [
      "1910\n"
     ]
    }
   ],
   "source": [
    "def number_of_lines():\n",
    "    fhand = open('/cxldata/datasets/project/mbox-short.txt')\n",
    "    inp = fhand.read()\n",
    "    lines= 0\n",
    "    for c in inp:\n",
    "        if c=='\\n':\n",
    "            lines +=1\n",
    "    fhand.close()\n",
    "    return lines\n",
    "    \n",
    "count = number_of_lines()\n",
    "print (count)"
   ]
  },
  {
   "cell_type": "code",
   "execution_count": 18,
   "metadata": {},
   "outputs": [
    {
     "name": "stdout",
     "output_type": "stream",
     "text": [
      "27\n"
     ]
    }
   ],
   "source": [
    "def count_number_of_lines():\n",
    "    \n",
    "    fhand = open('/cxldata/datasets/project/mbox-short.txt')\n",
    "    count = 0\n",
    "    for line in fhand:\n",
    "        line = line.rstrip() # Remove new line characters from right\n",
    "        if line.startswith('Subject:'):\n",
    "            print(line)\n",
    "            count +=1\n",
    "    return count\n",
    "\n",
    "c = count_number_of_lines()\n",
    "print(c)\n",
    "            "
   ]
  },
  {
   "cell_type": "code",
   "execution_count": 28,
   "metadata": {},
   "outputs": [
    {
     "name": "stdout",
     "output_type": "stream",
     "text": [
      "0.7507185185185187\n"
     ]
    }
   ],
   "source": [
    "def average_spam_confidence():\n",
    "    \n",
    "    fhand = open('/cxldata/datasets/project/mbox-short.txt')\n",
    "    count = 0\n",
    "    value = 0\n",
    "    for line in fhand:\n",
    "        line = line.rstrip() # Remove new line characters from right\n",
    "        if line.startswith('X-DSPAM-Confidence:'):\n",
    "            l = line.split('X-DSPAM-Confidence:')\n",
    "            value += float(l[1])\n",
    "            #print(value)\n",
    "            count +=1\n",
    "            \n",
    "    return value/count\n",
    "\n",
    "c = average_spam_confidence()\n",
    "print(c)\n",
    "         "
   ]
  },
  {
   "cell_type": "code",
   "execution_count": 41,
   "metadata": {},
   "outputs": [
    {
     "name": "stdout",
     "output_type": "stream",
     "text": [
      "{'Sat': 1, 'Fri': 20, 'Thu': 6}\n"
     ]
    }
   ],
   "source": [
    "def find_email_sent_days():\n",
    "    days_count = {}\n",
    "    \n",
    "    fhand = open('/cxldata/datasets/project/mbox-short.txt')\n",
    "    count = 0\n",
    "    value = 0\n",
    "    for line in fhand:\n",
    "        line = line.rstrip() # Remove new line characters from right\n",
    "        if line.startswith('From '):\n",
    "            #print(line)\n",
    "            s = line.split()\n",
    "            day = s[2]\n",
    "            if day in days_count:\n",
    "                days_count[day] +=1\n",
    "            else:\n",
    "                days_count[day] =1\n",
    "    return days_count\n",
    "\n",
    "c = find_email_sent_days()\n",
    "print(c)"
   ]
  },
  {
   "cell_type": "code",
   "execution_count": 46,
   "metadata": {},
   "outputs": [
    {
     "name": "stdout",
     "output_type": "stream",
     "text": [
      "{'stephen.marquard@uct.ac.za': 2, 'louis@media.berkeley.edu': 3, 'zqian@umich.edu': 4, 'rjlowe@iupui.edu': 2, 'cwen@iupui.edu': 5, 'gsilver@umich.edu': 3, 'wagnermr@iupui.edu': 1, 'antranig@caret.cam.ac.uk': 1, 'gopal.ramasammycook@gmail.com': 1, 'david.horwitz@uct.ac.za': 4, 'ray@media.berkeley.edu': 1}\n"
     ]
    }
   ],
   "source": [
    "def count_message_from_email():\n",
    "    count_email = {}\n",
    "    \n",
    "    fhand = open('/cxldata/datasets/project/mbox-short.txt')\n",
    "    count = 0\n",
    "    value = 0\n",
    "    for line in fhand:\n",
    "        line = line.rstrip() # Remove new line characters from right\n",
    "        if line.startswith('From '):\n",
    "            #print(line)\n",
    "            s = line.split()\n",
    "            email = s[1]\n",
    "            if email in count_email:\n",
    "                count_email[email] +=1\n",
    "            else:\n",
    "                count_email[email] =1\n",
    "    return count_email\n",
    "\n",
    "c = count_message_from_email()\n",
    "print(c)"
   ]
  },
  {
   "cell_type": "code",
   "execution_count": 55,
   "metadata": {},
   "outputs": [
    {
     "name": "stdout",
     "output_type": "stream",
     "text": [
      "{'uct.ac.za': 6, 'media.berkeley.edu': 4, 'umich.edu': 7, 'iupui.edu': 8, 'caret.cam.ac.uk': 1, 'gmail.com': 1}\n"
     ]
    }
   ],
   "source": [
    "def count_message_from_domain():\n",
    "    count_email = {}\n",
    "    \n",
    "    fhand = open('/cxldata/datasets/project/mbox-short.txt')\n",
    "    count = 0\n",
    "    value = 0\n",
    "    for line in fhand:\n",
    "        line = line.rstrip() # Remove new line characters from right\n",
    "        if line.startswith('From '):\n",
    "            #print(line)\n",
    "            s = line.split()\n",
    "            email = s[1].split('@')[1]\n",
    "            if email in count_email:\n",
    "                count_email[email] +=1\n",
    "            else:\n",
    "                count_email[email] =1\n",
    "    return count_email\n",
    "\n",
    "c = count_message_from_domain()\n",
    "print(c)"
   ]
  },
  {
   "cell_type": "code",
   "execution_count": null,
   "metadata": {},
   "outputs": [],
   "source": []
  }
 ],
 "metadata": {
  "kernelspec": {
   "display_name": "Python 3",
   "language": "python",
   "name": "python3"
  },
  "language_info": {
   "codemirror_mode": {
    "name": "ipython",
    "version": 3
   },
   "file_extension": ".py",
   "mimetype": "text/x-python",
   "name": "python",
   "nbconvert_exporter": "python",
   "pygments_lexer": "ipython3",
   "version": "3.6.8"
  },
  "toc": {
   "base_numbering": 1,
   "nav_menu": {},
   "number_sections": true,
   "sideBar": true,
   "skip_h1_title": false,
   "title_cell": "Table of Contents",
   "title_sidebar": "Contents",
   "toc_cell": false,
   "toc_position": {},
   "toc_section_display": true,
   "toc_window_display": false
  }
 },
 "nbformat": 4,
 "nbformat_minor": 2
}
